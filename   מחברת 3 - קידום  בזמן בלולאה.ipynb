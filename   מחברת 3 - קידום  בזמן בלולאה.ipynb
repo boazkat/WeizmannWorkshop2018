{
 "cells": [
  {
   "cell_type": "markdown",
   "metadata": {},
   "source": [
    "<div style=\"direction:rtl\">\n",
    "<H2>\n",
    "קידום בזמן בלולאה\n",
    "</H2>\n",
    "<div>"
   ]
  },
  {
   "cell_type": "markdown",
   "metadata": {},
   "source": [
    "<div style=\"direction:rtl\">\n",
    "הוסיפו את מילות הקסם לתא הבא והריצו בכדי שהמחברת תהיה מוכנה.\n",
    "<div>"
   ]
  },
  {
   "cell_type": "code",
   "execution_count": null,
   "metadata": {
    "collapsed": false
   },
   "outputs": [],
   "source": []
  },
  {
   "cell_type": "markdown",
   "metadata": {},
   "source": [
    "<div style=\"direction:rtl\"> \n",
    "השלימו את התא הבא בכדי ליצור גרף מקום זמן של כדור הנופל מראש בניין שגובהו 25 מטרים.\n",
    "הניחו שהכדור מתחיל ממנוחה.\n",
    "עדכנו את מיקום הכדור בקפיצות של 0.2 שניות במשך שתי השניות הראשונות של התנועה.\n",
    "<div>"
   ]
  },
  {
   "cell_type": "code",
   "execution_count": null,
   "metadata": {
    "collapsed": true
   },
   "outputs": [],
   "source": [
    "xlim(?,?)\n",
    "ylim(?,?)\n",
    "xlabel('t [s]')\n",
    "ylabel('y [m]')\n",
    "\n",
    "\n",
    "y0=25\n",
    "vy0=0\n",
    "ay=?  #m/s^2\n",
    "\n",
    "t=0\n",
    "plot(t,y0,'b.')\n",
    "\n",
    "\n",
    "t=t+?\n",
    "?\n",
    "?\n",
    "\n",
    "\n",
    "???"
   ]
  },
  {
   "cell_type": "markdown",
   "metadata": {},
   "source": [
    "<div style=\"direction:rtl\"> \n",
    "חייבת להיות דרך טובה יותר לגרום למחשב לעשות הרבה פעמים את אותה פעולה.\n",
    "התבוננו בתא הבא ולאחר מכן הריצו אותו.\n",
    "<div>"
   ]
  },
  {
   "cell_type": "code",
   "execution_count": null,
   "metadata": {
    "collapsed": true
   },
   "outputs": [],
   "source": [
    "xlim(0,2.5)\n",
    "ylim(0,30)\n",
    "xlabel('t [s]')\n",
    "ylabel('y [m]')\n",
    "\n",
    "\n",
    "y0=25\n",
    "vy0=0\n",
    "ay=-10  #m/s^2\n",
    "\n",
    "t=0\n",
    "plot(0,y0,'b.')\n",
    "\n",
    "while t<2:\n",
    "    t=t+0.2\n",
    "    y=y0+vy0*t+0.5*ay*t**2\n",
    "    plot(t,y,'b.')"
   ]
  },
  {
   "cell_type": "markdown",
   "metadata": {},
   "source": [
    "<div style=\"direction:rtl\"> \n",
    "התא מאוד דומה לתא הקודם.  למרות שאוסף שורות הקוד שגרמו לצעדים מופיע רק פעם אחת, המחשב מבצע את כל הצעדים כמו בתא הקודם.\n",
    "הקסם הזה קורה בזכות השורה עם הפקודה \n",
    "while\n",
    "אומרת למחשב לחזור על השורות המוסחות ימינה שמתחתיה שוב ושוב.\n",
    "עוד מעט נבין טוב יותר איך הפקודה עובדת אבל ראשית ננסה לשפר את הגרף.\n",
    "השלימו את התא הבא כך שהתנועה תתבצע בקפיצות של 0.05 שניות.\n",
    "<div>"
   ]
  },
  {
   "cell_type": "code",
   "execution_count": null,
   "metadata": {
    "collapsed": true
   },
   "outputs": [],
   "source": [
    "xlim(0,2.5)\n",
    "ylim(0,30)\n",
    "xlabel('t [s]')\n",
    "ylabel('y [m]')\n",
    "\n",
    "\n",
    "y0=25   #m\n",
    "vy0=0   #m/s\n",
    "ay=-10  #m/s^2\n",
    "\n",
    "t=0\n",
    "plot(0,y0,'b.')\n",
    "\n",
    "while t<2:\n",
    "    t=t+?\n",
    "    y=y0+vy0*t+0.5*ay*t**2\n",
    "    plot(t,y,'b.')\n"
   ]
  },
  {
   "cell_type": "markdown",
   "metadata": {},
   "source": [
    "<div style=\"direction:rtl\">\n",
    "כעת ננסה להבין טוב יותר את הפקודה while.\n",
    ".ראשית נתבוננן בדוגמה פשוטה יותר\n",
    "נחשו מה יקרה בתאים הבאים והריצו אותם.\n",
    "<div>"
   ]
  },
  {
   "cell_type": "code",
   "execution_count": null,
   "metadata": {
    "collapsed": true
   },
   "outputs": [],
   "source": [
    "t=0\n",
    "\n",
    "t=t+2\n",
    "print(t)\n",
    "\n",
    "t=t+2\n",
    "print(t)\n",
    "\n",
    "t=t+2\n",
    "print(t)\n",
    "\n",
    "t=t+2\n",
    "print(t)\n",
    "\n",
    "print('done')"
   ]
  },
  {
   "cell_type": "code",
   "execution_count": null,
   "metadata": {
    "collapsed": true
   },
   "outputs": [],
   "source": [
    "t=0\n",
    "\n",
    "while t<8:\n",
    "    t=t+2\n",
    "    print(t)\n",
    "    \n",
    "print('done')"
   ]
  },
  {
   "cell_type": "markdown",
   "metadata": {},
   "source": [
    "<div style=\"direction:rtl\">\n",
    "כפי שאתם רואים שני התאים עושים את אותו הדבר בדיוק.\n",
    "נבין קודם את התא הראשון.\n",
    "אחרי השורה הראשונה ערך המשתנה t הוא 0.\n",
    "אחרי השורה הבאה שבה כתוב \n",
    "$$ t=t+2$$\n",
    "ערכו של t גדל ב-2\n",
    "(כזכור, המחשב קודם מחשב את אגף ימין בעזרת הערך הישן של t ומזין את התוצאה החדשה למשתנה t).\n",
    "השורה הבאה מדפיסה את ערכו של t ולכן מודפס המספר 2.\n",
    "בכל זוג שורות נוסף ערכו של t גדל ב-2 והערך החדש מודפס עם הפקודה $\\rm print(t)$.\n",
    "לבסוף מודפסת הודעת סיום עם $\\rm print('done')$.\n",
    "<div>"
   ]
  },
  {
   "cell_type": "markdown",
   "metadata": {},
   "source": [
    "<div style=\"direction:rtl\">\n",
    "בתא השני השורה הראשונה זהה לתא הראשון.\n",
    "השורה השניה היא\n",
    "$$\\rm while~t<8:$$\n",
    "שורה זו  אומרת למחשב: כל עוד מתקיים התנאי \n",
    "t<8\n",
    "תחזור שוב ושוב על השורות הבאות \n",
    "שמוסחות ימינה.\n",
    "במקרה זה מדובר בשתי שורות:\n",
    "$$\\rm t=t+2$$\n",
    "$$\\rm print(t)$$\n",
    "בכל פעם שתי שורות אלו מגדילות את \n",
    "t\n",
    "ומדפיסות את ערכו.\n",
    "ברגע שערכו של \n",
    "t\n",
    "מגיע ל-8,\n",
    " התנאי \n",
    "t<8\n",
    "לא מתקיים יותר והפקודה while סיימה את עבודתה. \n",
    "המחשב מדלג על השורות המוזזות ועובר לשורה הבאה שמדפיסה את הודעת הסיום\n",
    "$$\\rm print('done')$$\n",
    "<div>"
   ]
  },
  {
   "cell_type": "markdown",
   "metadata": {},
   "source": [
    "<div style=\"direction:rtl\">\n",
    "התבוננו בתאים הבאים, נסו להבין מה קורה והריצו אותם.\n",
    "<div>"
   ]
  },
  {
   "cell_type": "code",
   "execution_count": null,
   "metadata": {
    "collapsed": true
   },
   "outputs": [],
   "source": [
    "t=0\n",
    "while t<10:\n",
    "    t=t+1\n",
    "    print(t)"
   ]
  },
  {
   "cell_type": "code",
   "execution_count": null,
   "metadata": {
    "collapsed": true
   },
   "outputs": [],
   "source": [
    "t=0\n",
    "while t<10:\n",
    "    t=t+1\n",
    "print(t)"
   ]
  },
  {
   "cell_type": "markdown",
   "metadata": {},
   "source": [
    "<div style=\"direction:rtl\">\n",
    "כפי שאתם רואים, בתא השני השורה האחרונה אינה מוסחת ימינה ולכן לא נכללת בלולאה. ההסחה ימינה חשובה!\n",
    "<div>"
   ]
  },
  {
   "cell_type": "markdown",
   "metadata": {},
   "source": [
    "<div style=\"direction:rtl\">\n",
    "<H4>\n",
    "משימה\n",
    "</H4>\n",
    "השלימו את התא הבא בכדי להדפיס את כל המספרים בין\n",
    "1 ל100\n",
    "בקפיצות של 3.\n",
    "כלומר\n",
    "$1,4,7,10,...,100$.\n",
    "<div>"
   ]
  },
  {
   "cell_type": "code",
   "execution_count": null,
   "metadata": {
    "collapsed": true
   },
   "outputs": [],
   "source": [
    "t=1\n",
    "while t<101:\n",
    "    print(?)\n",
    "    t=t+?"
   ]
  },
  {
   "cell_type": "markdown",
   "metadata": {},
   "source": [
    "<div style=\"direction:rtl\">\n",
    "<H4>\n",
    "משימה\n",
    "</H4>\n",
    "השלימו את התא הבא בכדי\n",
    "לצייר תרשים עקבות של הכדור שנזרק כלפי מעלה מתחילת המחברת.\n",
    "נבחר את ציר ה-\n",
    "x\n",
    "מקביל לרצפה כך שבמהלך התנועה\n",
    "מיקום הכדור בציר זה הוא\n",
    "x=0.\n",
    "הגרף צריך לתאר את תנועת הכדור במהלך שתי השניות הראשונות.\n",
    "בקפיצות של 0.05 שניות.\n",
    "<div>"
   ]
  },
  {
   "cell_type": "code",
   "execution_count": null,
   "metadata": {
    "collapsed": true
   },
   "outputs": [],
   "source": [
    "xlim(-1,1)\n",
    "ylim(0,30)\n",
    "xlabel('t [s]')\n",
    "ylabel('y [m]')\n",
    "\n",
    "y0=25   #m/s\n",
    "vy0=0   #m\n",
    "ay=-10  #m/s^2\n",
    "\n",
    "t=0\n",
    "\n",
    "while t<?:\n",
    "    pause(?)\n",
    "    t=t+?\n",
    "    y=y0+vy0*t+0.5*ay*t**2\n",
    "    plot(?,?,'b.')"
   ]
  },
  {
   "cell_type": "markdown",
   "metadata": {},
   "source": [
    "<div style=\"direction:rtl\">\n",
    "<H4>\n",
    "משימה\n",
    "</H4>\n",
    "חשבו רגע - מה ההבדל בין הגרף שיצרתם עכשיו לבין הגרף שראינו בתחילת המחברת? <br>\n",
    "כתבו בחופשיות בשורה הבאה:\n",
    "<div>"
   ]
  },
  {
   "cell_type": "code",
   "execution_count": null,
   "metadata": {
    "collapsed": true
   },
   "outputs": [],
   "source": []
  },
  {
   "cell_type": "markdown",
   "metadata": {},
   "source": [
    "<div style=\"direction:rtl\">\n",
    "<H4>\n",
    "משימה\n",
    "</H4>\n",
    "השלימו את התא הבא בכדי\n",
    "לצייר **תרשים עקבות** של כדור הנזרק אופקית מראש המגדל במהירות התחלתית של 5 מטרים לשניה.\n",
    "הגרף צריך לתאר את תנועת הכדור במהלך שתי השניות הראשונות.\n",
    "הוסיפו נקודה לגרף כל 0.05 שניות.\n",
    "<div>"
   ]
  },
  {
   "cell_type": "code",
   "execution_count": null,
   "metadata": {
    "collapsed": true
   },
   "outputs": [],
   "source": [
    "xlim(?,?)\n",
    "ylim(?,?)\n",
    "xlabel(?)\n",
    "ylabel(?)\n",
    "\n",
    "y0=25   #m/s\n",
    "vy0=?   #m/s\n",
    "x0=?\n",
    "vx0=?\n",
    "\n",
    "ay=-10  #m/s^2\n",
    "\n",
    "t=0\n",
    "plot(?,?,'b.')\n",
    "\n",
    "while t<?:\n",
    "    t=t+?\n",
    "    x=?\n",
    "    y=?\n",
    "    plot(?,?,'b.')\n"
   ]
  },
  {
   "cell_type": "markdown",
   "metadata": {},
   "source": [
    "<div style=\"direction:rtl\">\n",
    "לפי הגרף שיצרתם, מתי והיכן לערך פגע הכדור ברצפה?\n",
    "רשמו את התשובות בתא הבא\n",
    "(בלי להריץ אותו)\n",
    "חשבו את הזמן והמיקום ללא המחשב ובדקו אם אתם מקבלים את אותה התשובה.\n",
    "<div>"
   ]
  },
  {
   "cell_type": "code",
   "execution_count": null,
   "metadata": {
    "collapsed": true
   },
   "outputs": [],
   "source": [
    "מיקום פגיעה מקורב:\n",
    "?    \n",
    "זמן פגיעה מקורב:\n",
    "?"
   ]
  },
  {
   "cell_type": "markdown",
   "metadata": {},
   "source": [
    "<div style=\"direction:rtl\">\n",
    "<H4>\n",
    "אתגר\n",
    "</H4>\n",
    "כתבו קוד שייחשב וידפיס את סכום הריבועים של המספרים מ1 עד 100\n",
    "<div>"
   ]
  },
  {
   "cell_type": "code",
   "execution_count": null,
   "metadata": {
    "collapsed": true
   },
   "outputs": [],
   "source": []
  },
  {
   "cell_type": "markdown",
   "metadata": {},
   "source": [
    "<div style=\"direction:rtl\">\n",
    "<H4>\n",
    "אתגר\n",
    "</H4>\n",
    "צרו תרשים עקבות של כדור הנע במעגל במהירות קבועה\n",
    "<div>"
   ]
  },
  {
   "cell_type": "code",
   "execution_count": null,
   "metadata": {
    "collapsed": true
   },
   "outputs": [],
   "source": []
  }
 ],
 "metadata": {
  "anaconda-cloud": {},
  "kernelspec": {
   "display_name": "Python 3",
   "language": "python",
   "name": "python3"
  },
  "language_info": {
   "codemirror_mode": {
    "name": "ipython",
    "version": 3
   },
   "file_extension": ".py",
   "mimetype": "text/x-python",
   "name": "python",
   "nbconvert_exporter": "python",
   "pygments_lexer": "ipython3",
   "version": "3.5.4"
  }
 },
 "nbformat": 4,
 "nbformat_minor": 1
}

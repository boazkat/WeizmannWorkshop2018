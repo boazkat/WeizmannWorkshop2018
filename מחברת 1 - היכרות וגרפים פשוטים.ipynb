{
 "cells": [
  {
   "cell_type": "markdown",
   "metadata": {},
   "source": [
    "<div style=\"direction:rtl\">\n",
    "<H2>\n",
    "שלום ג׳ופיטר וגרפים ידניים\n",
    "</H2>\n",
    "<div>"
   ]
  },
  {
   "cell_type": "markdown",
   "metadata": {},
   "source": [
    "<div style=\"direction:rtl\">\n",
    "במחברת זאת נלמד לייצר גרפים פשוטים.\n",
    "ראשית הריצו את התא האפור הבא בכדי שהתוכנה תהיה מוכנה.\n",
    "בכדי להריץ תאים אפורים (תאי קוד) יש ללחוץ עליהם כדי שהסמן יהיה בתוכם ואז להקיש\n",
    "ctrl+enter \n",
    "או\n",
    "shift+enter\n",
    "בלוח המקשים\n",
    "<div>"
   ]
  },
  {
   "cell_type": "code",
   "execution_count": null,
   "metadata": {},
   "outputs": [],
   "source": [
    "%pylab inline"
   ]
  },
  {
   "cell_type": "markdown",
   "metadata": {},
   "source": [
    "<div style=\"direction:rtl\">\n",
    "בתאים האפורים נרשום פקודות שיבצעו חישובים ויאפשרו לנו לסרטט.\n",
    "נחשו מה יקרה כשתריצו כל אחד מהתאים הבאים ואז הריצו אותו\n",
    "<div>"
   ]
  },
  {
   "cell_type": "code",
   "execution_count": null,
   "metadata": {},
   "outputs": [],
   "source": [
    "3*5"
   ]
  },
  {
   "cell_type": "code",
   "execution_count": null,
   "metadata": {},
   "outputs": [],
   "source": [
    "3+2*(1+4)"
   ]
  },
  {
   "cell_type": "code",
   "execution_count": null,
   "metadata": {},
   "outputs": [],
   "source": [
    "3**2"
   ]
  },
  {
   "cell_type": "markdown",
   "metadata": {},
   "source": [
    "<div style=\"direction:rtl\">\n",
    "כפי שאתם רואים, השימוש הפשוט ביותר בתאים האפורים הוא לצורך חישובים. \n",
    "כעת נחשו מה יקרה כשתריצו את התאים הבאים ואז הריצו אותם\n",
    "<div>"
   ]
  },
  {
   "cell_type": "code",
   "execution_count": null,
   "metadata": {},
   "outputs": [],
   "source": [
    "plot(4,1,'.')"
   ]
  },
  {
   "cell_type": "code",
   "execution_count": null,
   "metadata": {},
   "outputs": [],
   "source": [
    "plot(4,1,'.')\n",
    "plot(8,0.5,'.')\n",
    "plot(6,1.5,'+')"
   ]
  },
  {
   "cell_type": "markdown",
   "metadata": {},
   "source": [
    "<div style=\"direction:rtl\">\n",
    "כפי שאולי הבנתם, הפקודה plot מאפשרת לנו להוסיף סימנים לגרף שפתחנו.\n",
    "אנו צריכים להזין שני מספרים - הראשון מסמל את ערך ה-x והשני את ערך הy.\n",
    "בנוסף, צריך לציין סימן בגרשיים. בינתיים הוספנו נקודות '.' ופלוסים '+'.\n",
    "נסו בעצמכם: בתא הבא ציירו גרף עם נקודה במיקום \n",
    "$(2,1.5)$\n",
    "וסימן '+' במיקום \n",
    "$(5,0.7)$.\n",
    "<div>"
   ]
  },
  {
   "cell_type": "code",
   "execution_count": null,
   "metadata": {},
   "outputs": [],
   "source": []
  },
  {
   "cell_type": "markdown",
   "metadata": {},
   "source": [
    "<div style=\"direction:rtl\">\n",
    "שימו לב שבכל פעם שמוסיפים סימן הצבע שלו שונה.\n",
    "נוכל לשלוט בצבע של הסימן ע״י הוספת אות מתאימה.\n",
    "לנקודה כחולה נוסיף  b (קיצור ל blue):\n",
    "<div>"
   ]
  },
  {
   "cell_type": "code",
   "execution_count": null,
   "metadata": {},
   "outputs": [],
   "source": [
    "plot(6,1.8,'b.')"
   ]
  },
  {
   "cell_type": "markdown",
   "metadata": {},
   "source": [
    "<div style=\"direction:rtl\">\n",
    "קיצורים נוספים: <br>\n",
    "b for blue  <br>\n",
    "g for green <br>\n",
    "r for red <br>\n",
    "y for yellow <br>\n",
    "k for black <br>\n",
    "בעזרת התא הבא הוסיפו '+' אדום במיקום\n",
    "$(9,1)$.\n",
    "<div>"
   ]
  },
  {
   "cell_type": "code",
   "execution_count": null,
   "metadata": {},
   "outputs": [],
   "source": []
  },
  {
   "cell_type": "markdown",
   "metadata": {},
   "source": [
    "<div style=\"direction:rtl\">\n",
    "כעת התבוננו בתאים הבאים, נחשו מה יקרה והריצו אותם.\n",
    "<div>"
   ]
  },
  {
   "cell_type": "code",
   "execution_count": null,
   "metadata": {},
   "outputs": [],
   "source": [
    "plot(5,5,'r+')\n",
    "xlim(0,10)"
   ]
  },
  {
   "cell_type": "code",
   "execution_count": null,
   "metadata": {},
   "outputs": [],
   "source": [
    "plot(5,5,'r+')\n",
    "xlim(1,6)\n",
    "ylim(0,10)"
   ]
  },
  {
   "cell_type": "markdown",
   "metadata": {},
   "source": [
    "<div style=\"direction:rtl\">\n",
    "כפי שאולי הבנתם, הפקודה \n",
    "xlim\n",
    "קובעת את תחום הערכים בציר \n",
    "x\n",
    "שבחלון,\n",
    "והפקודה \n",
    "ylim\n",
    "קובעת את תחום הערכים בציר \n",
    "y\n",
    "שבחלון.\n",
    "<div>"
   ]
  },
  {
   "cell_type": "markdown",
   "metadata": {},
   "source": [
    "<div style=\"direction:rtl\">\n",
    "נתקדם.\n",
    "דמיינו מכונית הנוסעת על כביש ישר במהירות קבועה של 30 מטרים לשניה. \n",
    "ציר ה-x נבחר להיות לאורך הכביש בכיוון החיובי של הנסיעה. \n",
    "ציר ה-y מאונך לכביש.\n",
    "ראשית הצירים נבחרת על הכביש ליד המקום בו המכונית נמצאת בזמן t=0.\n",
    "מכיוון שנרצה לתאר את תנועת המכונית באופן מדויק עלינו לבחור נקודת ציון.\n",
    "בשאלה זאת נבחר בידית הדלת הקדמית הנמצאת בגובה של מטר מעל לאדמה כפי שמתואר בסרטוט.\n",
    "<div>"
   ]
  },
  {
   "cell_type": "markdown",
   "metadata": {},
   "source": [
    "<img src=\"https://docs.google.com/uc?id=0B4PCmI5arOkLbFRBX3FNaFBzckk\" alt=\"Drawing\" style=\"width: 400px;\"/>"
   ]
  },
  {
   "cell_type": "markdown",
   "metadata": {},
   "source": [
    "<div style=\"direction:rtl\">\n",
    "בהנתן בחירה זאת, ערך הy- של המכונית הוא 1 מטרים בכל זמן. \n",
    "ערך ה-x של המכונית הוא 0 בזמן t=0 וגדל בקצב קבוע.\n",
    "השלימו את התא הבא בכדי לייצר **תרשים עקבות** של המכונית במהלך חצי השניה הראשונה בקפיצות של 0.1 שניות.\n",
    "<div>"
   ]
  },
  {
   "cell_type": "code",
   "execution_count": null,
   "metadata": {},
   "outputs": [],
   "source": [
    "xlim(-1,16)     # xטווח הערכים שיוצג בגרף בציר ה\n",
    "ylim(0,2)       # yטווח הערכים שיוצג בגרף בציר ה       \n",
    "plot(0,1,'b.')  # t=0(s) - x=0(m), y=1(m)\n",
    "plot(?,1,'b.')  # t=0.1(s) - x=?, y=1(m)\n",
    "plot(?,?,?)     # t=0.2(s)\n",
    "plot(?,?,?)     # t=0.3(s) \n",
    "plot(?,?,?)     # t=0.4(s)\n",
    "plot(?,?,?)     # t=0.5(s)"
   ]
  },
  {
   "cell_type": "markdown",
   "metadata": {},
   "source": [
    "<div style=\"direction:rtl\">\n",
    "כעת השלימו את התא הבא בכדי ליצור גרף **מקום זמן** של המכונית לאורך ציר ה\n",
    "-x\n",
    "עבור אותה תנועה\n",
    "<div>"
   ]
  },
  {
   "cell_type": "code",
   "execution_count": null,
   "metadata": {},
   "outputs": [],
   "source": [
    "xlim(?,?)   #הגדרת גבולות הציר האופקי בגרף - הזמן\n",
    "ylim(?,?)   #הגדרת גבולות הציר האנכי בגרף - המקום\n",
    "plot(0,0,'r.')\n",
    "plot(?,?,?)\n",
    "?"
   ]
  },
  {
   "cell_type": "markdown",
   "metadata": {},
   "source": [
    "<div style=\"direction:rtl\">\n",
    "הגרף מבלבלים שכן קשה לזכור מה מייצגים כל אחד מהצירים.\n",
    "נרצה להוסיף כותרות לצירים.\n",
    "נחשו מה יקרה בתא הבא והריצו אותו.\n",
    "<div>"
   ]
  },
  {
   "cell_type": "code",
   "execution_count": null,
   "metadata": {},
   "outputs": [],
   "source": [
    "xlim(0,5)\n",
    "ylim(0,10)\n",
    "plot(1,1,'b+')\n",
    "xlabel('x [meters]')  \n",
    "ylabel('y [meters]');"
   ]
  },
  {
   "cell_type": "markdown",
   "metadata": {},
   "source": [
    "<div style=\"direction:rtl\">\n",
    "שימו לב שהפקודה\n",
    "xlabel\n",
    "מורכבת מהאות\n",
    "x\n",
    "שמייצגת את הציר האופקי והמילה\n",
    "label\n",
    "שמשמעותה כותרת.<br>\n",
    "כנ״ל לגבי \n",
    "ylabel.\n",
    "חזרו לתאים למעלה שבהם יצרתם את תרשים העקבות ואת גרף המקום-זמן והוסיפו כותרות לצירים.\n",
    "<div>"
   ]
  },
  {
   "cell_type": "markdown",
   "metadata": {},
   "source": [
    "<div style=\"direction:rtl\">\n",
    "זהו, יש לנו תרשים עקבות וגרף מיקום זמן. \n",
    "הכותרות לצירים עוזרות להבין את הגרף שייצרנו.\n",
    "כפי ששמתם לב זוהי דרך מאוד מייגעת ליצור גרפים.\n",
    "הגיע הזמן ללמוד כלים חדשים.<br>\n",
    "<div>"
   ]
  },
  {
   "cell_type": "markdown",
   "metadata": {},
   "source": [
    "<div style=\"direction:rtl\">\n",
    "הסתכלו בתא הבא, נסו לנחש מה יקרה ואז הריצו אותו.\n",
    "<div>"
   ]
  },
  {
   "cell_type": "code",
   "execution_count": null,
   "metadata": {},
   "outputs": [],
   "source": [
    "t=0.1   \n",
    "x=3\n",
    "plot(t,x,'b.')"
   ]
  },
  {
   "cell_type": "markdown",
   "metadata": {},
   "source": [
    "<div style=\"direction:rtl\">\n",
    "כפי שאולי הבנתם, בתא זה ייצרנו שוב את הנקודה הראשונה בגרף המיקום זמן.\n",
    "בתא זה יש שימוש בכלי חשוב מאוד לפעילויות חישוביות שעד כה לא השתמשנו בו - משתנים.\n",
    "אם אין לכם מושג מהם משתנים ולמה הם משמשים אל תדאגו. \n",
    "במקום להגדיר מהו משתנה ומהם התכונות שלו, נדגים ונתנסה בשימוש ועם הזמן המושג יהיה ברור.\n",
    "השורה הראשונה בתא למעלה אמרה למחשב שעד להודעה חדשה, האות t מייצגת את המספר 0.1.\n",
    "השורה השניה אמרה למחשב שהאות x מייצגת את המספר 3.\n",
    "השורה האחרונה ציירה את הנקודה על הגרף. \n",
    "כעת נחשו מה יקרה כשתריצו את התא הבא:\n",
    "<div>"
   ]
  },
  {
   "cell_type": "code",
   "execution_count": null,
   "metadata": {},
   "outputs": [],
   "source": [
    "print(t)\n",
    "print(x)"
   ]
  },
  {
   "cell_type": "markdown",
   "metadata": {},
   "source": [
    "<div style=\"direction:rtl\">\n",
    "הפקודה \n",
    "print\n",
    "מאפשרת לנו להדפיס דברים בתא הפלט\n",
    "(Output)\n",
    "שמופיע מתחת לתאי הקוד אחרי שמריצים אותם.\n",
    "כפי שאתם רואים המחשב זוכר עדיין למה שוים\n",
    "x\n",
    "ו\n",
    "t.\n",
    "בכדי להבין קצת יותר טוב איך המשתנים עובדים נשחק איתם קצת.\n",
    "נחשו מה יקרה בתאים הבאים ואז הריצו אותם.\n",
    "<div>"
   ]
  },
  {
   "cell_type": "code",
   "execution_count": null,
   "metadata": {},
   "outputs": [],
   "source": [
    "print(x+1)"
   ]
  },
  {
   "cell_type": "code",
   "execution_count": null,
   "metadata": {},
   "outputs": [],
   "source": [
    "x=7\n",
    "print(x)"
   ]
  },
  {
   "cell_type": "markdown",
   "metadata": {},
   "source": [
    "<div style=\"direction:rtl\">\n",
    "כעת שינינו את הערך של\n",
    "x.\n",
    "חזרו כעת לתא שמופיעות בו הפקודות:\n",
    "</div>\n",
    "    print(t)<br>\n",
    "    print(x)\n",
    "\n",
    "<div style=\"direction:rtl\">\n",
    "והריצו אותו שוב.\n",
    "<br>\n",
    "אתם רואים שסדר התאים במחברת לא חשוב.\n",
    "מה שחשוב הוא הסדר שבו הרצנו את התאים.\n",
    "</div>"
   ]
  },
  {
   "cell_type": "markdown",
   "metadata": {},
   "source": [
    "<div style=\"direction:rtl\">\n",
    "שימו לב! פייטון שומרת במשתנים ערכים ולא ביטויים מתמטיים.\n",
    "ניתן לראות זאת בקטע הקוד הבא.\n",
    "קיראו אותו, שערו מה יקרה כאשר תריצו אותו, הריצו ובידקו האם צדקתם.\n",
    "</div>"
   ]
  },
  {
   "cell_type": "code",
   "execution_count": null,
   "metadata": {},
   "outputs": [],
   "source": [
    "y=x*2\n",
    "print(y)\n",
    "x=222222\n",
    "print(y)\n"
   ]
  },
  {
   "cell_type": "markdown",
   "metadata": {},
   "source": [
    "<div style=\"direction:rtl\">\n",
    "כפי שאתם רואים, כאשר הערך של x התעדכן, הערך של y לא התעדכן בהתאמה.\n",
    "זאת מפני שכאשר אנו כותבים את השורה:\n",
    "</div>\n",
    "\n",
    "    y=x*2\n",
    "    \n",
    "<div style=\"direction:rtl\">\n",
    "אין הכוונה שמעתה תמיד ערכו של y יהיה כפול מערכו של x.\n",
    "הכוונה היא שברגע הרצת הפקודה פייתון תבדוק מהו הערך של x, תכפיל ערך זה ב-2 ותציב את התוצאה למשתנה y.\n",
    "שינויים בערך של x, שיבוצעו אחרי ההשמה ל-y לא ישפיעו על הערך של y ופייתון לא עוקבת אחר הקשר בין המשתנים.\n",
    "</div>"
   ]
  },
  {
   "cell_type": "markdown",
   "metadata": {},
   "source": [
    "<div style=\"direction:rtl\">\n",
    "אפשר להשתמש כמעט בכל שם רציף למשתנה:\n",
    "</div>"
   ]
  },
  {
   "cell_type": "code",
   "execution_count": null,
   "metadata": {},
   "outputs": [],
   "source": [
    "boaz=50\n",
    "uri=50\n",
    "team=boaz+uri\n",
    "print(team)"
   ]
  },
  {
   "cell_type": "markdown",
   "metadata": {},
   "source": [
    "<div style=\"direction:rtl\">\n",
    "יש שמות מותרים ויש אסורים:\n",
    "</div>"
   ]
  },
  {
   "cell_type": "code",
   "execution_count": null,
   "metadata": {},
   "outputs": [],
   "source": [
    "israel=3"
   ]
  },
  {
   "cell_type": "code",
   "execution_count": null,
   "metadata": {},
   "outputs": [],
   "source": [
    "israel israeli=3"
   ]
  },
  {
   "cell_type": "code",
   "execution_count": null,
   "metadata": {},
   "outputs": [],
   "source": [
    "yoni34=4"
   ]
  },
  {
   "cell_type": "markdown",
   "metadata": {},
   "source": [
    "<div style=\"direction:rtl\">\n",
    "שימו לב שהסימן ״=״ כשמציבים למשתנה מתיחס באופן שונה לצד ימין וצד שמאל.\n",
    "לדוגמה, הפקודה הבאה לא עובדת (נסו)\n",
    "</div>"
   ]
  },
  {
   "cell_type": "code",
   "execution_count": null,
   "metadata": {},
   "outputs": [],
   "source": [
    "7=x"
   ]
  },
  {
   "cell_type": "markdown",
   "metadata": {},
   "source": [
    "<div style=\"direction:rtl\">\n",
    "נחזור למכונית ולגרף המקום זמן.\n",
    "השלימו את התא הבא בשביל ליצור את גרף מיקום הזמן מחדש:\n",
    "<div>"
   ]
  },
  {
   "cell_type": "code",
   "execution_count": null,
   "metadata": {},
   "outputs": [],
   "source": [
    "xlim(0,0.5)\n",
    "ylim(0,16)\n",
    "xlabel('t [s])\n",
    "ylabel('x [m]')\n",
    "t=0.2\n",
    "x=6\n",
    "plot(t,x,'b.')\n",
    "t=0.3\n",
    "x=9\n",
    "plot(t,x,'b.')\n",
    "t=?\n",
    "x=?\n",
    "plot(t,x,'b.')\n",
    "t=?\n",
    "x=?\n",
    "plot(?,?,?)\n"
   ]
  },
  {
   "cell_type": "markdown",
   "metadata": {},
   "source": [
    "<div style=\"direction:rtl\">\n",
    "קצת יותר ברור אבל אפילו עוד יותר מייגע!\n",
    "מה הרווחנו??\n",
    "נראה במחברת הבאה...\n",
    "אבל קודם קצת נתאמן.\n",
    "<div>"
   ]
  },
  {
   "cell_type": "markdown",
   "metadata": {},
   "source": [
    "<div style=\"direction:rtl\">\n",
    "<H4>\n",
    "משימה 1\n",
    "</H4> \n",
    "צרו תרשים עקבות וגרף מקום זמן (בשני תאי קוד שונים)\n",
    "של מכונית הנוסעת במהירות של 20 מטר לשניה, בקפיצות של שניה במשך 4 השניות הראשונות לתנועתה.\n",
    "כמו במקרה שבתחילת המחברת, בתרשים העקבות, מיקום המכונית נקבע ע״י הידית הנמצאת בגובה\n",
    "$y=1m$.\n",
    "<div>"
   ]
  },
  {
   "cell_type": "markdown",
   "metadata": {},
   "source": [
    "<div style=\"direction:rtl\">\n",
    "צרו את תרשים העקבות בתא הבא.<br>\n",
    "**\n",
    "שימו לב לתת כותרות נכונות לציר האופקי והאנכי בעזרת הפקודות\n",
    "xlabel\n",
    "ו\n",
    "ylabel **.\n",
    "<div>"
   ]
  },
  {
   "cell_type": "code",
   "execution_count": null,
   "metadata": {},
   "outputs": [],
   "source": []
  },
  {
   "cell_type": "markdown",
   "metadata": {},
   "source": [
    "<div style=\"direction:rtl\">\n",
    "צרו את גרף המיקום-זמן בתא הבא.<br>\n",
    "**\n",
    "שימו לב לתת כותרות נכונות לציר האופקי והאנכי בעזרת הפקודות\n",
    "xlabel\n",
    "ו\n",
    "ylabel **.\n",
    "הכותרות יהיו שונות מבגרף של תרשים העקבות.\n",
    "קראו למורה והראו את שני הגרפים שיצרתם.\n",
    "<div>"
   ]
  },
  {
   "cell_type": "code",
   "execution_count": null,
   "metadata": {},
   "outputs": [],
   "source": []
  },
  {
   "cell_type": "markdown",
   "metadata": {},
   "source": [
    "<div style=\"direction:rtl\">\n",
    "<H4>\n",
    "משימה 2\n",
    "</H4>\n",
    "צרו גרף מקום זמן עבור מכונית שהמיקום שלה בשלוש השניות הראשונות נתון בטבלה הבאה:\n",
    "האם המכונית נוסעת במהירות קבועה?\n",
    "<div>"
   ]
  },
  {
   "cell_type": "markdown",
   "metadata": {},
   "source": [
    "<table style=“width:20%\">\n",
    "  <tr>\n",
    "    <th>t(s)</th>\n",
    "    <td>0</td>\n",
    "    <td>1</td>\n",
    "    <td>2</td>\n",
    "    <td>3</td>\n",
    "  </tr>\n",
    "  <tr>\n",
    "    <th>x(m)</th>\n",
    "    <td>5.0</td>\n",
    "    <td>16</td>\n",
    "    <td>21</td>\n",
    "    <td>22</td>\n",
    "  </tr>\n",
    "</table>"
   ]
  },
  {
   "cell_type": "code",
   "execution_count": null,
   "metadata": {},
   "outputs": [],
   "source": []
  }
 ],
 "metadata": {
  "anaconda-cloud": {},
  "kernelspec": {
   "display_name": "Python 3",
   "language": "python",
   "name": "python3"
  },
  "language_info": {
   "codemirror_mode": {
    "name": "ipython",
    "version": 3
   },
   "file_extension": ".py",
   "mimetype": "text/x-python",
   "name": "python",
   "nbconvert_exporter": "python",
   "pygments_lexer": "ipython3",
   "version": "3.6.5"
  }
 },
 "nbformat": 4,
 "nbformat_minor": 1
}

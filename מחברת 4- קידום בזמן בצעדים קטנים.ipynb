{
 "cells": [
  {
   "cell_type": "markdown",
   "metadata": {},
   "source": [
    "<div style=\"direction:rtl\">\n",
    "<H2>\n",
    "קידום תנועה בצעדים קטנים.\n",
    "</H2>\n",
    "<div>"
   ]
  },
  {
   "cell_type": "markdown",
   "metadata": {},
   "source": [
    "<div style=\"direction:rtl\">\n",
    "במחברת זאת נחשב תנועה בצורה חדשה ע״י קידום המיקום והמהירות בצעדים קטנים.\n",
    "הוסיפו את מילות הקסם לתא הבא והריצו כדי שהמחברת תהיה מוכנה.\n",
    "<div>"
   ]
  },
  {
   "cell_type": "code",
   "execution_count": null,
   "metadata": {},
   "outputs": [],
   "source": []
  },
  {
   "cell_type": "markdown",
   "metadata": {},
   "source": [
    "<div style=\"direction:rtl\"> \n",
    "ראשית נחזור על מה שעשינו בשיעור הקודם.\n",
    "השלימו את התא הבא בכדי ליצור **תרשים עקבות** של גוף הנע במהירות קבועה של 5 מטרים לשניה\n",
    "בכיוון החיובי של ציר ה-x\n",
    "כאשר מיקומו בציר ה-\n",
    "y\n",
    "קבוע ושווה ל\n",
    "y=1m.\n",
    "ציירו את מיקום הכדור בקפיצות של 0.05 שניות במשך שלוש השניות הראשונות של התנועה.\n",
    "מיקומו ההתחלתי של הגוף בציר ה-x הוא\n",
    "$x_0=0$.\n",
    "    **הוסיפו כותרות לצירים**\n",
    "<div>"
   ]
  },
  {
   "cell_type": "code",
   "execution_count": null,
   "metadata": {},
   "outputs": [],
   "source": [
    "xlim(-1,20)\n",
    "ylim(0,2)\n",
    "?   #הוסיפו כותרת לציר האופקי\n",
    "?   #הוסיפו כותרת לציר האנכי\n",
    "t=0\n",
    "x0=0\n",
    "y=0\n",
    "vx=5    #m/s\n",
    "\n",
    "plot(x0,y,'b.')\n",
    "\n",
    "while t<?:\n",
    "    t=t+?\n",
    "    x=x0+?*t\n",
    "    plot(?,?,?)\n",
    "    \n",
    "print('final t is ',t)\n",
    "print('final x is ',x)"
   ]
  },
  {
   "cell_type": "markdown",
   "metadata": {},
   "source": [
    "<div style=\"direction:rtl\">\n",
    "שימו לב שהזמן הסופי הוא $$t=3.05~\\rm s$$\n",
    "ובהתאם המיקום הסופי הוא $$x=x_0+vt=15.25~ \\rm m$$\n",
    "(ייתכן והמחשב טועה בספרה או שתיים האחרונות ולכן אתם רואים הרבה 9999...).\n",
    "<div>"
   ]
  },
  {
   "cell_type": "markdown",
   "metadata": {},
   "source": [
    "<div style=\"direction:rtl\">\n",
    "עכשיו ננסה דרך מעט שונה לגרום לתנועה.\n",
    "ראשית הריצו את התא הבא שמחזיר את המשתנה\n",
    "x\n",
    "ל-0.\n",
    "<div>"
   ]
  },
  {
   "cell_type": "code",
   "execution_count": null,
   "metadata": {},
   "outputs": [],
   "source": [
    "x=0"
   ]
  },
  {
   "cell_type": "markdown",
   "metadata": {},
   "source": [
    "<div style=\"direction:rtl\">\n",
    "כעת התבוננו היטב התא הבא. נחשו מה יקרה ואז הריצו אותו מספר פעמים\n",
    "(כלומר עמדו על התא ולחצו\n",
    "ctrl+enter\n",
    "שוב ושוב).\n",
    "התבוננו בגרף לאחר כל הרצה של התא.\n",
    "<div>"
   ]
  },
  {
   "cell_type": "code",
   "execution_count": null,
   "metadata": {},
   "outputs": [],
   "source": [
    "xlim(-1,20)\n",
    "ylim(0,2)\n",
    "xlabel('x[m]')\n",
    "ylabel('y[m]')\n",
    "\n",
    "y=1\n",
    "\n",
    "x=x+2\n",
    "plot(x,y,'b.');"
   ]
  },
  {
   "cell_type": "markdown",
   "metadata": {},
   "source": [
    "<div style=\"direction:rtl\">\n",
    "כפי שאתם רואים, בכל פעם שאנו מריצים את התא הערך של \n",
    "x\n",
    "גדל ב 2\n",
    "בזכות השורה\n",
    "$$ x=x+2$$.\n",
    "הרבה לחיצות עוקבות יוצרות תנועה.\n",
    "אין צורך להריץ את השורות שוב ושוב בעצמנו. \n",
    "נוכל לעשות זאת בעזרת הפקודה while.\n",
    "נחשו מה יקרה בתא הבא והריצו אותו.\n",
    "<div>"
   ]
  },
  {
   "cell_type": "code",
   "execution_count": null,
   "metadata": {},
   "outputs": [],
   "source": [
    "xlim(-1,20)\n",
    "ylim(0,2)\n",
    "xlabel('x [m]')\n",
    "ylabel('y [m]')\n",
    "x=0\n",
    "y=1    #m\n",
    "\n",
    "while x<16:\n",
    "    x=x+2\n",
    "    plot(x,y,'b.')"
   ]
  },
  {
   "cell_type": "markdown",
   "metadata": {},
   "source": [
    "<div style=\"direction:rtl\"> \n",
    "כעת נחזור לבעיה של כדור הנע במהירות קבועה נתונה v=5m/s.\n",
    "רשמו בתא הבא ביטוי להעתק שהגוף עובר בצעד זמן של 0.05 שניות.\n",
    "<div>"
   ]
  },
  {
   "cell_type": "code",
   "execution_count": null,
   "metadata": {},
   "outputs": [],
   "source": [
    "Change in x =  ?*?"
   ]
  },
  {
   "cell_type": "markdown",
   "metadata": {},
   "source": [
    "<div style=\"direction:rtl\"> \n",
    "כעת השלימו את התא הבא בכדי ליצור תרשים עקבות של הגוף ע״י עדכון של \n",
    "x\n",
    "בקפיצות של 0.05 שניות.\n",
    "<div>"
   ]
  },
  {
   "cell_type": "code",
   "execution_count": null,
   "metadata": {},
   "outputs": [],
   "source": [
    "xlim(-1,20)\n",
    "ylim(0,2)\n",
    "xlabel('x [m]')\n",
    "ylabel('y [m]')\n",
    "\n",
    "t=0\n",
    "x=0\n",
    "vx=5    #m/s\n",
    "\n",
    "y=1   #m\n",
    "\n",
    "\n",
    "\n",
    "while t<3:\n",
    "    t=t+0.05\n",
    "    x=x+?*0.05\n",
    "    y=1  #m\n",
    "    plot(x,y,'b.')\n",
    "    \n",
    "print('final t is ',t)\n",
    "print('final x is ',x)"
   ]
  },
  {
   "cell_type": "markdown",
   "metadata": {},
   "source": [
    "<div style=\"direction:rtl\"> \n",
    "השוו את התא האחרון לתא שיצר את אותה תנועה בתחילת המחברת.\n",
    "בתא שבתחילת המחברת השתמשנו בשורה\n",
    "$$\\rm x=x0+vx*t$$\n",
    "בתא האחרון השתמשנו בשורה\n",
    "$$\\rm x=x+vx*0.05$$.\n",
    "רשמו במספר מילים בתא הבא, מה ההבדל בין משוואות אלו ואיך בשני המקרים אנו מקבלים את אותה תנועה?\n",
    "<div>"
   ]
  },
  {
   "cell_type": "code",
   "execution_count": null,
   "metadata": {},
   "outputs": [],
   "source": []
  },
  {
   "cell_type": "markdown",
   "metadata": {},
   "source": [
    "<div style=\"direction:rtl\">\n",
    "האם אפשר להשתמש בשיטה דומה אם המהירות משתנה?\n",
    "נתחיל מתאוצה קבועה.\n",
    "הניחו שהכדור מתחיל ממנוחה ומאיץ בתאוצה $$a=2\\frac{m}{s^2}$$\n",
    "והשלימו את התא הבא בכדי ליצור **גרף מיקום זמן** של התנועה שלו במהלך 3 השניות הראשונות בעזרת הנוסחה למיקום בתאוצה קבועה.\n",
    "<div>"
   ]
  },
  {
   "cell_type": "code",
   "execution_count": null,
   "metadata": {},
   "outputs": [],
   "source": [
    "xlim(0,3.5)\n",
    "ylim(0,20)\n",
    "xlabel('t [s]')\n",
    "ylabel('x [m]')\n",
    "\n",
    "t=0\n",
    "x0=0\n",
    "v0=?    #m/s\n",
    "a=?    #m/s^2 \n",
    "\n",
    "plot(t,x0,'b.')\n",
    "\n",
    "\n",
    "while t<3:\n",
    "    t=t+?\n",
    "    x=x0+v0*?+0.5*?*t**2\n",
    "    plot(t,x,'b.')\n",
    "print('final t is ',t)\n",
    "print('final x is ',x)"
   ]
  },
  {
   "cell_type": "markdown",
   "metadata": {},
   "source": [
    "<div style=\"direction:rtl\">\n",
    "עכשיו ננסה לעשות זאת ע״י קידום המיקום בצעדים קטנים ע״י שימוש במהירות.\n",
    "מכיוון שהמהירות משתנה, נצטרך לחשב אותה בכל צעד זמן בעזרת הנוסחה למהירות בתאוצה קבועה.\n",
    "השלימו את התא הבא בכדי לעשות את החישוב בצורה זאת.\n",
    "<div>"
   ]
  },
  {
   "cell_type": "code",
   "execution_count": null,
   "metadata": {},
   "outputs": [],
   "source": [
    "xlim(0,3.5)\n",
    "ylim(0,20)\n",
    "xlabel('t [s]')\n",
    "ylabel('y [m]')\n",
    "\n",
    "t=0\n",
    "x=0\n",
    "v0=0    #m/s\n",
    "a=2    #m/s^2 \n",
    "\n",
    "plot(t,x,'b.')\n",
    "\n",
    "\n",
    "while t<3:\n",
    "    t=t+0.05\n",
    "    v=v0+?*t\n",
    "    x=x+v*0.05\n",
    "    plot(t,x,'b.')\n",
    "print('final t is ',t)\n",
    "print('final x is ',x)"
   ]
  },
  {
   "cell_type": "markdown",
   "metadata": {},
   "source": [
    "<div style=\"direction:rtl\">\n",
    "כפי שאתם רואים, הצלחנו לקבל תנועה שנראית אותו דבר בלי להשתמש בנוסחת המיקום המסובכת\n",
    "$$x=x_0+v_0t+\\frac12 a t^2$$.\n",
    "האמנם הצלחנו?\n",
    "שימו לב לזמן הסופי ולמיקום הסופי שהודפסו בסוף הריצה.\n",
    "חשבו את המיקום שאמור היה להתקבל בזמן הסופי והשלימו את התא הבא\n",
    "(כיתבו מספרים עד הספרה השלישית אחרי הנקודה)\n",
    "<div>"
   ]
  },
  {
   "cell_type": "code",
   "execution_count": null,
   "metadata": {},
   "outputs": [],
   "source": [
    "The final t is ? seconds\n",
    "The final x is ? meters\n",
    "The final x at the final t should have been ? meters"
   ]
  },
  {
   "cell_type": "markdown",
   "metadata": {},
   "source": [
    "<div style=\"direction:rtl\">\n",
    "<br>\n",
    "** למה התוצאות לא זהות? **\n",
    "<br>\n",
    "נסו למצוא איזו שורה בתא האחרון אינה מדוייקת\n",
    "ולמה\n",
    "ורשמו את תשובתכם בתא הבא.\n",
    "<div>"
   ]
  },
  {
   "cell_type": "code",
   "execution_count": null,
   "metadata": {},
   "outputs": [],
   "source": []
  },
  {
   "cell_type": "markdown",
   "metadata": {},
   "source": [
    "<div style=\"direction:rtl\">\n",
    "למה התוצאה קרובה בכל זאת לתוצאה הנכונה?\n",
    "נסו לנחש ורשמו את דעתכם בתא הבא.\n",
    "<div>"
   ]
  },
  {
   "cell_type": "code",
   "execution_count": null,
   "metadata": {},
   "outputs": [],
   "source": []
  },
  {
   "cell_type": "markdown",
   "metadata": {},
   "source": [
    "<div style=\"direction:rtl\">\n",
    "בסופו של דבר, עבדנו קשה רק בשביל לקבל תוצאה לא מדויקת. מה הרווחנו?\n",
    "<div>"
   ]
  },
  {
   "cell_type": "markdown",
   "metadata": {},
   "source": [
    "<div style=\"direction:rtl\">\n",
    "חישבו על השאלה הבאה.\n",
    "<H4>\n",
    "שאלה חדשה\n",
    "</H4>\n",
    "כדור נע בקו ישר במהירות משתנה הנתונה כתלות בזמן ע״י\n",
    "$$ \\rm{v}=t^3~~\\rm m/s.$$\n",
    "הכדור מתחיל ב x=0. <br>\n",
    "כיצד תראה תנועת הכדור?\n",
    "היכן יהיה הכדור אחרי 3 שניות?\n",
    "<div>"
   ]
  },
  {
   "cell_type": "markdown",
   "metadata": {},
   "source": [
    "<div style=\"direction:rtl\">\n",
    "מכיוון שהמהירות לא עולה בקצב קבוע, זוהי לא תנועה בתאוצה קבועה.\n",
    "האם נוכל לענות לשאלה?\n",
    "השלימו את התא הבא בכדי לענות לשאלה ב**קירוב** ע״י קידום בצעדים קטנים.\n",
    "<div>"
   ]
  },
  {
   "cell_type": "code",
   "execution_count": null,
   "metadata": {},
   "outputs": [],
   "source": [
    "xlim(0,4)\n",
    "ylim(0,25)\n",
    "xlabel('t [s]')\n",
    "ylabel('x [m]')\n",
    "\n",
    "t=0\n",
    "x=0\n",
    "\n",
    "plot(t,x,'b.')\n",
    "\n",
    "\n",
    "while t<3:\n",
    "    t=t+0.05\n",
    "    v=?\n",
    "    x=x+v*0.05\n",
    "    plot(t,x,'b.')\n",
    "print('final t is ',t)\n",
    "print('final x is ',x)"
   ]
  },
  {
   "cell_type": "markdown",
   "metadata": {},
   "source": [
    "<div style=\"direction:rtl\">\n",
    "** בעזרת קידום בצעדים קטנים בזמן, נוכל לענות בקירוב על כל בעיה בה המהירות נתונה כתלות בזמן**\n",
    "<div>"
   ]
  },
  {
   "cell_type": "markdown",
   "metadata": {},
   "source": [
    "<div style=\"direction:rtl\">\n",
    "<H4>\n",
    "משימה\n",
    "</H4>\n",
    "כיצד נוכל לשפר את הדיוק?\n",
    "נסו לחשב את המיקום של הגוף בסוף התנועה בשאלה האחרונה (אחרי שלוש שניות)  בדיוק רב ככל שתוכלו.\n",
    "העתיקו את הקוד מהתא עם הלולאה לתא שלמטה ושנו אותו.\n",
    "אין צורך להציג את התנועה. תוכלו להוריד את שורה שמציירת את הנקודה בגרף.\n",
    "<div>"
   ]
  },
  {
   "cell_type": "code",
   "execution_count": null,
   "metadata": {},
   "outputs": [],
   "source": []
  },
  {
   "cell_type": "markdown",
   "metadata": {},
   "source": [
    "<div style=\"direction:rtl\">\n",
    "<H4>\n",
    "אתגר מאתגר\n",
    "</H4>\n",
    "צנחן מבצע צניחה חופשית ממטוס. הוא קופץ מהמטוס בגובה 3000 מטרים בזמן t=0.\n",
    "הצנחן נושא עימו מד גובה ופותח את המצנח בהגיעו לגובה 1000 מטרים.\n",
    "ככל שמהירות הנפילה גדלה, החיכוך עם האוויר גדל והתאוצה של הצנחן כלפי מטה קטנה.\n",
    "במערכת צירים שבה y מכוון למעלה, \n",
    "התאוצה נתונה ע״י המשוואה\n",
    "$$a_y=-10+\\frac{v_y^2}{300}~~~\\rm \\frac{m}{s^2}$$\n",
    "כמה זמן עורכת הנפילה עד לפתיחת המצנח?\n",
    "צרו גרף של גובה הצנחן כתלות בזמן\n",
    "עד לרגע פתיחת המצנח.\n",
    "** רמז **\n",
    "במקרה זה צריך לקדם בצעדים קטנים גם את המיקום y ע״י\n",
    "$$\\Delta y\\approx v_y\\Delta t$$\n",
    "וגם את המהירות\n",
    "$$\\Delta v_y\\approx a_y\\Delta t$$.\n",
    "<div>\n"
   ]
  },
  {
   "cell_type": "code",
   "execution_count": null,
   "metadata": {},
   "outputs": [],
   "source": []
  }
 ],
 "metadata": {
  "anaconda-cloud": {},
  "kernelspec": {
   "display_name": "Python 3",
   "language": "python",
   "name": "python3"
  },
  "language_info": {
   "codemirror_mode": {
    "name": "ipython",
    "version": 3
   },
   "file_extension": ".py",
   "mimetype": "text/x-python",
   "name": "python",
   "nbconvert_exporter": "python",
   "pygments_lexer": "ipython3",
   "version": "3.6.5"
  }
 },
 "nbformat": 4,
 "nbformat_minor": 1
}

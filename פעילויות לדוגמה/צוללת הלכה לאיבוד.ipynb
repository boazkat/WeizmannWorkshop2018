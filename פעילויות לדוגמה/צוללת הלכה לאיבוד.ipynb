{
 "cells": [
  {
   "cell_type": "code",
   "execution_count": null,
   "metadata": {},
   "outputs": [],
   "source": [
    "%pylab inline\n",
    "!pip install mpld3\n",
    "import mpld3\n",
    "mpld3.enable_notebook()\n",
    "global x,y,vx,vy,ax,ay"
   ]
  },
  {
   "cell_type": "code",
   "execution_count": null,
   "metadata": {},
   "outputs": [],
   "source": [
    "def getAcc (t):\n",
    "    global x,y,vx,vy,ax,ay\n",
    "    ax = 33.684 - 26.541*t + 5.05896*t**2 - 0.33542*t**3 + 0.0071748*t**4 # km/hr**2\n",
    "    ay = -22.362 + 13.29*t - 2.02464*t**2 + 0.113404*t**3 - 0.0021259*t**4 # km/hr**2\n",
    "\n",
    "def go (t):\n",
    "    global x,y,vx,vy,ax,ay\n",
    "    x = x + vx*t+0.5*ax*t**2\n",
    "    y = y + vy*t+0.5*ay*t**2\n",
    "    vx = vx + ax*t\n",
    "    vy = vy + ay*t\n",
    "\n",
    "def plotPath (dt) :\n",
    "    global x,y,vx,vy,ax,ay\n",
    "    go(dt)    \n",
    "    plot(x,y,'r.',markersize=3)\n",
    "\n",
    "\n",
    "def loadMap():\n",
    "    img=imread('https://docs.google.com/uc?id=1gC5JpA3MzSeISSd2UrpunTPiE8TE6ETF')\n",
    "    scaling=1/2\n",
    "    xsize=size(img,1)*scaling\n",
    "    ysize=size(img,0)*scaling\n",
    "    xshift=-1032*scaling;\n",
    "    yshift=-262*scaling\n",
    "    figure(figsize=(10,5))\n",
    "    imgplot = imshow(img,extent=[xshift,xshift+xsize,yshift,yshift+ysize])\n",
    "    grid('on')\n",
    "    xlabel('x[km]')\n",
    "    ylabel('y[km]');\n"
   ]
  },
  {
   "cell_type": "code",
   "execution_count": null,
   "metadata": {},
   "outputs": [],
   "source": [
    "x=0 # m\n",
    "y=0 # m\n",
    "vx = -26.196 # km/hr\n",
    "vy = 12.623 # km/hr\n",
    "\n",
    "loadMap()\n",
    "plot(0,0,'r.',markersize=2)\n",
    "\n",
    "getAcc(t=0)\n",
    "plotPath(dt=0.5)\n",
    "\n",
    "getAcc(t=0.5)\n",
    "plotPath(dt=0.5)\n",
    "\n",
    "getAcc(t=1)\n",
    "plotPath(dt=0.5)\n",
    "\n"
   ]
  }
 ],
 "metadata": {
  "kernelspec": {
   "display_name": "Python 3",
   "language": "python",
   "name": "python3"
  },
  "language_info": {
   "codemirror_mode": {
    "name": "ipython",
    "version": 3
   },
   "file_extension": ".py",
   "mimetype": "text/x-python",
   "name": "python",
   "nbconvert_exporter": "python",
   "pygments_lexer": "ipython3",
   "version": "3.6.5"
  }
 },
 "nbformat": 4,
 "nbformat_minor": 2
}

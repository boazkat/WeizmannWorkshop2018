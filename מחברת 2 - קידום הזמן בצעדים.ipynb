{
 "cells": [
  {
   "cell_type": "markdown",
   "metadata": {},
   "source": [
    "<div style=\"direction:rtl\">\n",
    "<H2>\n",
    "קידום בזמן\n",
    "</H2>\n",
    "<div>"
   ]
  },
  {
   "cell_type": "markdown",
   "metadata": {},
   "source": [
    "<div style=\"direction:rtl\">\n",
    "הוסיפו את מילות הקסם לתא הבא והריצו כדי שהמחברת תהיה מוכנה.\n",
    "אם אינכם זוכרים הסתכלו במחברת הקודמת.\n",
    "<div>"
   ]
  },
  {
   "cell_type": "code",
   "execution_count": null,
   "metadata": {
    "collapsed": true
   },
   "outputs": [],
   "source": []
  },
  {
   "cell_type": "markdown",
   "metadata": {},
   "source": [
    "<div style=\"direction:rtl\">\n",
    "גוף מתחיל מראשית הצירים וזז על ציר\n",
    "ה-\n",
    "x\n",
    "בכיוון החיובי\n",
    "עם מהירות התחלתית של 2 מטרים לשניה ותאוצה של \n",
    "5\n",
    "מטרים לשניה בריבוע.  \n",
    "השלימו את התא הבא בכדי ליצור גרף מקום זמן של\n",
    "הגוף במהלך 2 השניות הראשונות.\n",
    "סמנו נקודה כל חצי שניה.\n",
    "<div>"
   ]
  },
  {
   "cell_type": "code",
   "execution_count": null,
   "metadata": {
    "collapsed": true
   },
   "outputs": [],
   "source": [
    "xlim(0,2.5)\n",
    "ylim(0,15)\n",
    "xlabel('t [s]')\n",
    "ylabel('x [m]')\n",
    "\n",
    "a=5 \n",
    "v0=2 \n",
    "x0=0\n",
    "\n",
    "t=0\n",
    "x=x0+v0*t+0.5*a*t**2\n",
    "plot(t,x,'b.')\n",
    "\n",
    "t=0.5\n",
    "x=x0+v0*t+0.5*a*t**2\n",
    "plot(t,x,'b.')\n",
    "\n",
    "???"
   ]
  },
  {
   "cell_type": "markdown",
   "metadata": {},
   "source": [
    "<div style=\"direction:rtl\">\n",
    "מייגע.\n",
    "ננסה להקל על עצמנו.\n",
    "הסתכלו בתא הבא, נסו לנחש מה יקרה והריצו אותו.\n",
    "<div>"
   ]
  },
  {
   "cell_type": "code",
   "execution_count": null,
   "metadata": {
    "collapsed": true
   },
   "outputs": [],
   "source": [
    "xlim(0,2.5)\n",
    "ylim(0,15)\n",
    "xlabel('t [s]')\n",
    "ylabel('x [m]')\n",
    "\n",
    "a=5 \n",
    "v0=2 \n",
    "x0=0\n",
    "\n",
    "t=0\n",
    "x=x0+v0*t+0.5*a*t**2\n",
    "plot(t,x,'b.')\n",
    "\n",
    "t=t+0.5\n",
    "x=x0+v0*t+0.5*a*t**2\n",
    "plot(t,x,'b.')\n",
    "\n",
    "t=t+0.5\n",
    "x=x0+v0*t+0.5*a*t**2\n",
    "plot(t,x,'b.')\n",
    "\n",
    "t=t+0.5\n",
    "x=x0+v0*t+0.5*a*t**2\n",
    "plot(t,x,'b.')\n",
    "\n",
    "t=t+0.5\n",
    "x=x0+v0*t+0.5*a*t**2\n",
    "plot(t,x,'b.')\n"
   ]
  },
  {
   "cell_type": "markdown",
   "metadata": {},
   "source": [
    "<div style=\"direction:rtl\">\n",
    "קיבלנו את אותה תוצאה בדיוק.\n",
    "לפני שנבין איך זה עובד, נשאל למה בכל?\n",
    "מה הרווחנו?\n",
    "שימו לב שכל בלוק של שלוש פקודות הגורם לצעד אחד זהה לחלוטין לקודמיו.\n",
    "לכן נוכל בקלות להוסיף הרבה צעדים עם copy+paste.\n",
    "בתא הבא העתיקו את הבלוק של שלושת השורות לכל צעד בכדי ליצור גרף עם קפיצות  של עשירית שניה.\n",
    "<div>"
   ]
  },
  {
   "cell_type": "code",
   "execution_count": null,
   "metadata": {
    "collapsed": true
   },
   "outputs": [],
   "source": [
    "xlim(0,2.5)\n",
    "ylim(0,15)\n",
    "xlabel('t [s]')\n",
    "ylabel('x [m]')\n",
    "\n",
    "a=5 \n",
    "v0=2 \n",
    "x0=0\n",
    "\n",
    "t=0\n",
    "x=x0+v0*t+0.5*a*t**2\n",
    "plot(t,x,'b.')\n",
    "\n",
    "\n",
    "t=t+0.1\n",
    "x=x0+v0*t+0.5*a*t**2\n",
    "plot(t,x,'b.')\n",
    "\n",
    "???"
   ]
  },
  {
   "cell_type": "markdown",
   "metadata": {},
   "source": [
    "<div style=\"direction:rtl\">\n",
    "כעת נבין איך זה עובד.\n",
    "הפקודה החדשה והמבלבלת כאן היא\n",
    "$$\\rm t=t+0.1$$\n",
    "לכאורה רשומה כאן משוואה בלתי אפשרית.\n",
    "האגף הימני תמיד יהיה גדול מהאגף השמאלי. \n",
    "כמובן שזוהי לא משוואה מתמטית. לסימן השוויון\n",
    "׳=׳\n",
    "בתכנות יש משמעות שונה. הוא אומר למחשב להציב למשתנה שבאגף שמאל את תוצאת החישוב שבאגף ימין. \n",
    "במהלך החישוב המחשב משתמש בערך הקודם של\n",
    "t\n",
    "ורק בסוף מזין את התוצאה ומעדכן את הערך של t.\n",
    "גם אם לא הבנתם, המשיכו והנסיון יעזור לכם להבין. נחשו מה יקרה בתאים הבאים והריצו אותם.\n",
    "<div>"
   ]
  },
  {
   "cell_type": "code",
   "execution_count": null,
   "metadata": {
    "collapsed": true
   },
   "outputs": [],
   "source": [
    "t=0\n",
    "print(t)\n",
    "print(t+3)\n",
    "print(t)\n",
    "t=t+3\n",
    "print(t)"
   ]
  },
  {
   "cell_type": "code",
   "execution_count": null,
   "metadata": {
    "collapsed": true
   },
   "outputs": [],
   "source": [
    "t=0\n",
    "print(t)\n",
    "\n",
    "t=t+2\n",
    "print(t)\n",
    "\n",
    "t=t+2\n",
    "print(t)\n",
    "\n",
    "t=t+2\n",
    "print(t)\n",
    "\n",
    "t=t+2\n",
    "print(t)\n",
    "\n",
    "t=t+2\n",
    "print(t)"
   ]
  },
  {
   "cell_type": "markdown",
   "metadata": {},
   "source": [
    "<div style=\"direction:rtl\">\n",
    "מבינים?\n",
    "גם אם לא, כדאי להמשיך. נדון בכך בכיתה ביחד.\n",
    "<div>"
   ]
  },
  {
   "cell_type": "markdown",
   "metadata": {},
   "source": [
    "<div style=\"direction:rtl\">\n",
    "<H4>\n",
    "משימה\n",
    "</H4>\n",
    "בשני התאים הבאים צרו גרף מיקום זמן ותרשים עקבות של כדור המאיץ בתאוצה קבועה של \n",
    "4\n",
    "מטרים לשניה בריבוע בכיוון החיובי של ציר ה\n",
    "x\n",
    "במשך שני שניות.\n",
    "בקפיצות של חצי שניה.\n",
    "הכדור מתחיל ממנוחה. <br>\n",
    "את גרף המיקום זמן צרו בתא הבא:\n",
    "<div>"
   ]
  },
  {
   "cell_type": "code",
   "execution_count": null,
   "metadata": {
    "collapsed": true
   },
   "outputs": [],
   "source": []
  },
  {
   "cell_type": "markdown",
   "metadata": {},
   "source": [
    "<div style=\"direction:rtl\">\n",
    "את תרשים העקבות צרו בתא הבא:\n",
    "<div>"
   ]
  },
  {
   "cell_type": "code",
   "execution_count": null,
   "metadata": {
    "collapsed": true
   },
   "outputs": [],
   "source": []
  },
  {
   "cell_type": "markdown",
   "metadata": {},
   "source": [
    "<div style=\"direction:rtl\">\n",
    "<H4>\n",
    "אתגר\n",
    "</H4>\n",
    "נסו לחזור על התרגיל הקודם ללא שימוש בנוסחת המיקום בתאוצה קבועה.\n",
    "במקום זאת השתמשו בנוסחה למהירות כתלות בזמן בתאוצה קבועה והניחו שבכל צעד זמן המהירות כמעט קבועה.\n",
    "אם הצלחתם צרו גרפים שבהם רואים את תוצאות ההרצות השונות כתלות בזמן.\n",
    "<div>"
   ]
  },
  {
   "cell_type": "code",
   "execution_count": null,
   "metadata": {
    "collapsed": true
   },
   "outputs": [],
   "source": []
  }
 ],
 "metadata": {
  "anaconda-cloud": {},
  "kernelspec": {
   "display_name": "Python 3",
   "language": "python",
   "name": "python3"
  },
  "language_info": {
   "codemirror_mode": {
    "name": "ipython",
    "version": 3
   },
   "file_extension": ".py",
   "mimetype": "text/x-python",
   "name": "python",
   "nbconvert_exporter": "python",
   "pygments_lexer": "ipython3",
   "version": "3.5.4"
  }
 },
 "nbformat": 4,
 "nbformat_minor": 1
}

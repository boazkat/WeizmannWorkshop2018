{
 "cells": [
  {
   "cell_type": "markdown",
   "metadata": {},
   "source": [
    "<div style=\"direction:rtl\">\n",
    "<H1>\n",
    "ייצוגי תנועה\n",
    "</H1>\n",
    "<H2>\n",
    "המחשת נפילה חופשית.\n",
    "</H2>\n",
    "<div>"
   ]
  },
  {
   "cell_type": "markdown",
   "metadata": {},
   "source": [
    "<div style=\"direction:rtl\">\n",
    "במחברת זאת נמחיש תנועה ע״י יצירת אנימציות.\n",
    "ונייצר גרפים של מיקום ומהירות.\n",
    "הריצו את התא הבא כדי שהמחברת תהיה מוכנה.\n",
    "<div>"
   ]
  },
  {
   "cell_type": "code",
   "execution_count": null,
   "metadata": {
    "collapsed": true
   },
   "outputs": [],
   "source": [
    "%pylab"
   ]
  },
  {
   "cell_type": "markdown",
   "metadata": {},
   "source": [
    "<div style=\"direction:rtl\">\n",
    "כמו בשיעור הקודם, בכדי להמחיש את תנועה, נזיז נקודה על המסך. התא הבא מייצר את הפקודות שייאפשרו לנו לעשות זאת בקלות.\n",
    "<div>"
   ]
  },
  {
   "cell_type": "code",
   "execution_count": null,
   "metadata": {
    "collapsed": true
   },
   "outputs": [],
   "source": [
    "def StartBall(x,y):\n",
    "    global ballm\n",
    "    ballm,=plot(x,y,'bo',markersize=10)\n",
    "def MoveBallTo(x,y):\n",
    "    ballm.set_data(x,y)\n",
    "print('StartBall and MoveBallTo are now defined')"
   ]
  },
  {
   "cell_type": "markdown",
   "metadata": {},
   "source": [
    "<div style=\"direction:rtl\"> \n",
    "השלימו את התא הבא בכדי ליצור אנימציה של כדור הנזרק במהירות של 5 מטרים לשניה כלפי מעלה מראש בניין שגובהו 25 מטרים. \n",
    "עדכנו את מיקום הכדור בקפיצות של 0.2 שניות במשך שתי השניות הראשונות של התנועה.\n",
    "<div>"
   ]
  },
  {
   "cell_type": "code",
   "execution_count": null,
   "metadata": {
    "collapsed": true
   },
   "outputs": [],
   "source": [
    "clf()\n",
    "xlim(-10,10)\n",
    "ylim(0,30)\n",
    "xlabel('x [m]')\n",
    "ylabel('y [m]')\n",
    "\n",
    "x0=0\n",
    "y0=25\n",
    "vy0=5\n",
    "ay=?  #m/s^2\n",
    "\n",
    "plot(x0,y0,'b.')\n",
    "StartBall(x0,y0)\n",
    "\n",
    "t=0\n",
    "\n",
    "pause(0.2)\n",
    "t=t+?\n",
    "x=x0\n",
    "y=y0+vy0*t+?\n",
    "MoveBallTo(x,y)\n",
    "plot(x,y,'b.')\n",
    "\n",
    "???"
   ]
  },
  {
   "cell_type": "markdown",
   "metadata": {},
   "source": [
    "<div style=\"direction:rtl\"> \n",
    "האנימציה לא חלקה כי אנו עושים צעדים לא כל כך קטנים בזמן. אם נרצה להקטין את הזמן בין הצעדים נצטרך לעשות יותר צעדים ולשם כך נצטרך להעתיק את שורות הקוד שוב ושוב הרבה פעמים. חייבת להיות דרך טובה יותר לגרום למחשב לעשות הרבה פעמים את אותה פעולה.\n",
    "התבוננו בתא הבא והריצו אותו.\n",
    "<div>"
   ]
  },
  {
   "cell_type": "code",
   "execution_count": null,
   "metadata": {
    "collapsed": true
   },
   "outputs": [],
   "source": [
    "clf()\n",
    "xlim(-10,10)\n",
    "ylim(0,30)\n",
    "xlabel('x [m]')\n",
    "ylabel('y [m]')\n",
    "\n",
    "x0=0\n",
    "y0=25   #m/s\n",
    "vy0=5   #m\n",
    "ay=-10  #m/s^2\n",
    "\n",
    "StartBall(x0,y0)\n",
    "t=0\n",
    "\n",
    "while t<2:\n",
    "    pause(0.2)\n",
    "    t=t+0.2\n",
    "    x=x0\n",
    "    y=y0+vy0*t+0.5*ay*t**2\n",
    "    MoveBallTo(x,y)\n",
    "    plot(x,y,'b.')\n"
   ]
  },
  {
   "cell_type": "markdown",
   "metadata": {},
   "source": [
    "<div style=\"direction:rtl\"> \n",
    "התא מאוד דומה לתא הקודם.  למרות שאוסף שורות הקוד שגרמו לצעדים מופיע רק פעם אחת, המחשב מבצע את כל הצעדים כמו בתא הקודם.\n",
    "הקסם הזה קורה בזכות השורה עם הפקודה \n",
    "while\n",
    "אומרת למחשב לחזור על השורות המוסחות ימינה שמתחתיה שוב ושוב.\n",
    "עוד מעט נבין טוב יותר איך הפקודה עובדת אבל ראשית ננסה לשפר את ה אנימציה.\n",
    "השלימו את התא הבא כך שהתנועה תתבצע בקפיצות של 0.05 שניות.\n",
    "נאריך גם את זמן הסימולציה ל3 שניות.\n",
    "<div>"
   ]
  },
  {
   "cell_type": "code",
   "execution_count": null,
   "metadata": {
    "collapsed": true
   },
   "outputs": [],
   "source": [
    "clf()\n",
    "xlim(-10,10)\n",
    "ylim(0,30)\n",
    "xlabel('x [m]')\n",
    "ylabel('y [m]')\n",
    "\n",
    "x0=0\n",
    "y0=25   #m/s\n",
    "vy0=5   #m\n",
    "ay=-10  #m/s^2\n",
    "\n",
    "StartBall(x0,y0)\n",
    "t=0\n",
    "\n",
    "while t<3:\n",
    "    pause(?)\n",
    "    t=t+?\n",
    "    x=x0\n",
    "    y=y0+vy0*t+0.5*ay*t**2\n",
    "    MoveBallTo(x,y)\n",
    "    plot(x,y,'b.')\n"
   ]
  },
  {
   "cell_type": "markdown",
   "metadata": {},
   "source": [
    "<div style=\"direction:rtl\">\n",
    "כעת ננסה להבין טוב יותר את הפקודה while.\n",
    ".ראשית נתבוננן בדוגמה פשוטה יותר\n",
    "נחשו מה יקרה בתאים הבאים והריצו אותם.\n",
    "<div>"
   ]
  },
  {
   "cell_type": "code",
   "execution_count": null,
   "metadata": {
    "collapsed": true
   },
   "outputs": [],
   "source": [
    "t=0\n",
    "\n",
    "t=t+2\n",
    "print(t)\n",
    "\n",
    "t=t+2\n",
    "print(t)\n",
    "\n",
    "t=t+2\n",
    "print(t)\n",
    "\n",
    "t=t+2\n",
    "print(t)\n",
    "\n",
    "print('done')"
   ]
  },
  {
   "cell_type": "code",
   "execution_count": null,
   "metadata": {
    "collapsed": true
   },
   "outputs": [],
   "source": [
    "t=0\n",
    "\n",
    "while t<8:\n",
    "    t=t+2\n",
    "    print(t)\n",
    "    \n",
    "print('done')"
   ]
  },
  {
   "cell_type": "markdown",
   "metadata": {},
   "source": [
    "<div style=\"direction:rtl\">\n",
    "כפי שאתם רואים שני התאים עושים את אותו הדבר בדיוק.\n",
    "נבין קודם את התא הראשון.\n",
    "אחרי השורה הראשונה ערך המשתנה t הוא 0.\n",
    "אחרי השורה הבאה שבה כתוב \n",
    "$$ t=t+2$$\n",
    "ערכו של t גדל ב-2\n",
    "(כזכור, המחשב קודם מחשב את אגף ימין בעזרת הערך הישן של t ומזין את התוצאה החדשה למשתנה t).\n",
    "השורה הבאה מדפיסה את ערכו של t ולכן מודפס המספר 2.\n",
    "בכל זוג שורות נוסף ערכו של t גדל ב-2 והערך החדש מודפס עם הפקודה $\\rm print(t)$.\n",
    "לבסוף מודפסת הודעת סיום עם $\\rm print('done')$.\n",
    "<div>"
   ]
  },
  {
   "cell_type": "markdown",
   "metadata": {},
   "source": [
    "<div style=\"direction:rtl\">\n",
    "בתא השני השורה הראשונה זהה לתא הראשון.\n",
    "השורה השניה היא\n",
    "$$\\rm while~t<8:$$\n",
    "שורה זו  אומרת למחשב: כל עוד מתקיים התנאי \n",
    "t<8\n",
    "תחזור שוב ושוב על השורות הבאות \n",
    "שמוסחות ימינה.\n",
    "במקרה זה מדובר בשתי שורות:\n",
    "$$\\rm t=t+2$$\n",
    "$$\\rm print(t)$$\n",
    "בכל פעם שתי שורות אלו מגדילות את \n",
    "t\n",
    "ומדפיסות את ערכו.\n",
    "ברגע שערכו של \n",
    "t\n",
    "מגיע ל-8,\n",
    " התנאי \n",
    "t<8\n",
    "לא מתקיים יותר והפקודה while סיימה את עבודתה. \n",
    "המחשב מדלג על השורות המוזזות ועובר לשורה הבאה שמדפיסה את הודעת הסיום\n",
    "$$\\rm print('done')$$\n",
    "<div>"
   ]
  },
  {
   "cell_type": "markdown",
   "metadata": {},
   "source": [
    "<div style=\"direction:rtl\">\n",
    "התבוננו בתאים הבאים, נסו להבין מה קורה והריצו אותם.\n",
    "<div>"
   ]
  },
  {
   "cell_type": "code",
   "execution_count": null,
   "metadata": {
    "collapsed": true
   },
   "outputs": [],
   "source": [
    "t=0\n",
    "while t<10:\n",
    "    t=t+1\n",
    "    print(t)"
   ]
  },
  {
   "cell_type": "code",
   "execution_count": null,
   "metadata": {
    "collapsed": true
   },
   "outputs": [],
   "source": [
    "t=0\n",
    "while t<10:\n",
    "    t=t+1\n",
    "print(t)"
   ]
  },
  {
   "cell_type": "markdown",
   "metadata": {},
   "source": [
    "<div style=\"direction:rtl\">\n",
    "כפי שאתם רואים, בתא השני השורה האחרונה אינה מוסחת ימינה ולכן לא נכללת בלולאה. ההסחה ימינה חשובה!\n",
    "<div>"
   ]
  },
  {
   "cell_type": "markdown",
   "metadata": {},
   "source": [
    "<div style=\"direction:rtl\">\n",
    "<H4>\n",
    "משימה\n",
    "</H4>\n",
    "השלימו את התא הבא בכדי להדפיס את כל המספרים בין\n",
    "1 ל100\n",
    "בקפיצות של 3.\n",
    "כלומר\n",
    "$1,4,7,10,...,100$.\n",
    "<div>"
   ]
  },
  {
   "cell_type": "code",
   "execution_count": null,
   "metadata": {
    "collapsed": true
   },
   "outputs": [],
   "source": [
    "t=1\n",
    "while t<101:\n",
    "    print(?)\n",
    "    t=t+?"
   ]
  },
  {
   "cell_type": "markdown",
   "metadata": {},
   "source": [
    "<div style=\"direction:rtl\">\n",
    "<H4>\n",
    "משימה\n",
    "</H4>\n",
    "השלימו את התא הבא בכדי\n",
    "לצייר גרף **מיקום** **זמן** של הכדור שנזרק כלפי מעלה מתחילת המחברת.\n",
    "הגרף צריך לתאר את תנועת הכדור במהלך שתי השניות הראשונות.\n",
    "הוסיפו נקודה לגרף כל 0.05 שניות וגרמו למחשב לחכות 0.05 שניות בין נקודה לנקודה.\n",
    "<div>"
   ]
  },
  {
   "cell_type": "code",
   "execution_count": null,
   "metadata": {
    "collapsed": true
   },
   "outputs": [],
   "source": [
    "clf()\n",
    "xlim(0,3.2)\n",
    "ylim(0,30)\n",
    "xlabel('t [s]')\n",
    "ylabel('y [m]')\n",
    "\n",
    "y0=25   #m/s\n",
    "vy0=5   #m\n",
    "ay=-10  #m/s^2\n",
    "\n",
    "t=0\n",
    "\n",
    "while t<?:\n",
    "    pause(?)\n",
    "    t=t+?\n",
    "    y=y0+vy0*t+0.5*ay*t**2\n",
    "    plot(t,?,'b.')"
   ]
  },
  {
   "cell_type": "markdown",
   "metadata": {},
   "source": [
    "<div style=\"direction:rtl\">\n",
    "<H4>\n",
    "משימה\n",
    "</H4>\n",
    "חשבו רגע - מה ההבדל בין הגרף שיצרתם עכשיו לבין הגרף שראינו בתחילת המחברת? <br>\n",
    "כתבו בחופשיות בשורה הבאה:\n",
    "<div>"
   ]
  },
  {
   "cell_type": "code",
   "execution_count": null,
   "metadata": {
    "collapsed": true
   },
   "outputs": [],
   "source": []
  },
  {
   "cell_type": "markdown",
   "metadata": {},
   "source": [
    "<div style=\"direction:rtl\">\n",
    "<H4>\n",
    "משימה\n",
    "</H4>\n",
    "לפי הגרף שיצרתם, מתי לערך הגיע הכדור ל**שיא גובהו**? <br>\n",
    "כתבו בחופשיות בשורה הבאה:\n",
    "<div>"
   ]
  },
  {
   "cell_type": "code",
   "execution_count": null,
   "metadata": {
    "collapsed": true
   },
   "outputs": [],
   "source": []
  },
  {
   "cell_type": "markdown",
   "metadata": {},
   "source": [
    "<div style=\"direction:rtl\">\n",
    "<H4>\n",
    "משימה\n",
    "</H4>\n",
    "השלימו את התא הבא בכדי\n",
    "לצייר גרף **מהירות** **זמן** של הכדור שנזרק כלפי מעלה מתחילת המחברת.\n",
    "הגרף צריך לתאר את תנועת הכדור במהלך שתי השניות הראשונות.\n",
    "הוסיפו נקודה לגרף כל 0.05 שניות וגרמו למחשב לחכות 0.05 שניות בין נקודה לנקודה.\n",
    "<div>"
   ]
  },
  {
   "cell_type": "code",
   "execution_count": null,
   "metadata": {
    "collapsed": true
   },
   "outputs": [],
   "source": [
    "clf()\n",
    "xlim(0,3.2)\n",
    "ylim(?,?)\n",
    "xlabel('t [s]')\n",
    "ylabel('vy [m/s]')\n",
    "\n",
    "y0=25   #m/s\n",
    "vy0=5   #m\n",
    "ay=-10  #m/s^2\n",
    "\n",
    "t=0\n",
    "\n",
    "while t<?:\n",
    "    pause(?)\n",
    "    t=t+?\n",
    "    vy=?\n",
    "    plot(?,?,'b.')\n"
   ]
  },
  {
   "cell_type": "markdown",
   "metadata": {},
   "source": [
    "<div style=\"direction:rtl\">\n",
    "<H4>\n",
    "משימה\n",
    "</H4>\n",
    "לפי הגרף שיצרתם, מתי לערך שינה הכדור את **כיוון מהירותו**? <br>\n",
    "כתבו בשורה הבאה, והשוו לתשובתכם בנוגע לשיא גובה הכדור!\n",
    "<div>"
   ]
  },
  {
   "cell_type": "code",
   "execution_count": null,
   "metadata": {
    "collapsed": true
   },
   "outputs": [],
   "source": []
  },
  {
   "cell_type": "markdown",
   "metadata": {},
   "source": [
    "<div style=\"direction:rtl\">\n",
    "<H4>\n",
    "אתגר\n",
    "</H4>\n",
    "כתבו קוד שייחשב וידפיס את סכום הריבועים של המספרים מ1 עד 100\n",
    "<div>"
   ]
  },
  {
   "cell_type": "code",
   "execution_count": null,
   "metadata": {
    "collapsed": true
   },
   "outputs": [],
   "source": []
  },
  {
   "cell_type": "markdown",
   "metadata": {},
   "source": [
    "<div style=\"direction:rtl\">\n",
    "<H4>\n",
    "אתגר\n",
    "</H4>\n",
    "צרו אנימציה של כדור הנע במעגל במהירות קבועה\n",
    "<div>"
   ]
  },
  {
   "cell_type": "code",
   "execution_count": null,
   "metadata": {
    "collapsed": true
   },
   "outputs": [],
   "source": []
  }
 ],
 "metadata": {
  "anaconda-cloud": {},
  "kernelspec": {
   "display_name": "Python 3",
   "language": "python",
   "name": "python3"
  },
  "language_info": {
   "codemirror_mode": {
    "name": "ipython",
    "version": 3
   },
   "file_extension": ".py",
   "mimetype": "text/x-python",
   "name": "python",
   "nbconvert_exporter": "python",
   "pygments_lexer": "ipython3",
   "version": "3.5.1"
  }
 },
 "nbformat": 4,
 "nbformat_minor": 1
}

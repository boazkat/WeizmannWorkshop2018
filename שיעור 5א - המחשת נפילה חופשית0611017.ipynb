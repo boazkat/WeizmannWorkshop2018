{
 "cells": [
  {
   "cell_type": "markdown",
   "metadata": {},
   "source": [
    "<div style=\"direction:rtl\">\n",
    "<H1>\n",
    "ייצוגי תנועה\n",
    "</H1>\n",
    "<H2>\n",
    "המחשת תנועה\n",
    "</H2>\n",
    "<div>"
   ]
  },
  {
   "cell_type": "markdown",
   "metadata": {},
   "source": [
    "<div style=\"direction:rtl\">\n",
    "במחברת זאת נמחיש תנועה ע״י יצירת אנימציות.\n",
    "הריצו את התא הבא כדי שהמחברת תהיה מוכנה.\n",
    "<div>"
   ]
  },
  {
   "cell_type": "code",
   "execution_count": null,
   "metadata": {
    "collapsed": true
   },
   "outputs": [],
   "source": [
    "%pylab"
   ]
  },
  {
   "cell_type": "markdown",
   "metadata": {},
   "source": [
    "<div style=\"direction:rtl\">\n",
    "בכדי להמחיש תנועה, נזיז נקודה על המסך. התא הבא מייצר פקודות חדשות שייאפשרו לנו לעשות זאת בקלות.\n",
    "הריצו אותו למרות שכנראה אינכם מבינים את כל הפקודות.\n",
    "<div>"
   ]
  },
  {
   "cell_type": "code",
   "execution_count": null,
   "metadata": {
    "collapsed": true
   },
   "outputs": [],
   "source": [
    "def StartBall(x,y):\n",
    "    global ballm\n",
    "    ballm,=plot(x,y,'bo',markersize=10)\n",
    "def MoveBallTo(x,y):\n",
    "    ballm.set_data(x,y)\n",
    "print('StartBall and MoveBallTo are now defined')"
   ]
  },
  {
   "cell_type": "markdown",
   "metadata": {},
   "source": [
    "<div style=\"direction:rtl\">\n",
    "כדי לראות איך הפקודות האלו עובדות, נפתח חלון שבו נוכל ולהוסיף ולהזיז את נקודה. הריצו את התא הבא.\n",
    "<div>"
   ]
  },
  {
   "cell_type": "code",
   "execution_count": null,
   "metadata": {
    "collapsed": true
   },
   "outputs": [],
   "source": [
    "clf()\n",
    "xlim(-10,10)\n",
    "ylim(-1,30)\n",
    "xlabel('x [m]')\n",
    "ylabel('y [m]')"
   ]
  },
  {
   "cell_type": "markdown",
   "metadata": {},
   "source": [
    "<div style=\"direction:rtl\">\n",
    "ודאו שאתם רואים את החלון שנפתח וסדרו את החלונות כך שתוכלו לראות את החלון החדש והמחברת בו זמנית.\n",
    "נסו לנחש מה יקרה בתאים הבאים והריצו אותם\n",
    "<div>"
   ]
  },
  {
   "cell_type": "code",
   "execution_count": null,
   "metadata": {
    "collapsed": true
   },
   "outputs": [],
   "source": [
    "StartBall(5,5)"
   ]
  },
  {
   "cell_type": "code",
   "execution_count": null,
   "metadata": {
    "collapsed": true
   },
   "outputs": [],
   "source": [
    "MoveBallTo(1,3)"
   ]
  },
  {
   "cell_type": "code",
   "execution_count": null,
   "metadata": {
    "collapsed": true
   },
   "outputs": [],
   "source": [
    "MoveBallTo(5,10)"
   ]
  },
  {
   "cell_type": "code",
   "execution_count": null,
   "metadata": {
    "collapsed": true
   },
   "outputs": [],
   "source": [
    "MoveBallTo(5,100)"
   ]
  },
  {
   "cell_type": "code",
   "execution_count": null,
   "metadata": {
    "collapsed": true
   },
   "outputs": [],
   "source": [
    "MoveBallTo(0,0)"
   ]
  },
  {
   "cell_type": "markdown",
   "metadata": {},
   "source": [
    "<div style=\"direction:rtl\">\n",
    "כפי שאולי הבנתם, הפקודה \n",
    "$$\\rm StartBall()$$\n",
    "יוצרת נקודה כחולה (נדמיין שזה כדור) במיקום לפי ערכי ה\n",
    "x\n",
    "וה\n",
    "y \n",
    "שמוזנים לה.\n",
    "כאשר הכדור כבר קיים, הפקודה \n",
    "$$\\rm MoveBallTo()$$\n",
    "מזיזה אותו למיקום חדש לפי הערכים שמוזנים לה.\n",
    "<div>"
   ]
  },
  {
   "cell_type": "markdown",
   "metadata": {},
   "source": [
    "<div style=\"direction:rtl\">\n",
    "נתחיל להמחיש תנועות.\n",
    "השלימו את התא הבא בכדי להמחיש תנועה של כדור שמתחיל מראשית הצירים וזז על ציר\n",
    "ה-x\n",
    "בכיוון\n",
    "החיובי במהירות של 5 מטרים לשניה במשך 2 שניות (ע״י קפיצות של חצי שניה).\n",
    "\n",
    "נזכיר שהפקודה\n",
    "$\\rm pause()$\n",
    "גורמת למחשב לעצור למשך מספר השניות שמוזן בסוגריים.\n",
    "<div>"
   ]
  },
  {
   "cell_type": "code",
   "execution_count": null,
   "metadata": {
    "collapsed": true
   },
   "outputs": [],
   "source": [
    "clf()\n",
    "xlim(-1,11)\n",
    "ylim(-1,1)\n",
    "xlabel('x [m]')\n",
    "ylabel('y [m]')\n",
    "\n",
    "\n",
    "StartBall(0,0)\n",
    "\n",
    "pause(0.5)\n",
    "MoveBallTo(2.5,0)\n",
    "\n",
    "pause(0.5)\n",
    "MoveBallTo(5,0)\n",
    "\n",
    "??\n",
    "??\n",
    "\n",
    "??\n",
    "??"
   ]
  },
  {
   "cell_type": "markdown",
   "metadata": {},
   "source": [
    "<div style=\"direction:rtl\">\n",
    "השלימו את התא הבא כך שיווצר גם תרשים עקבות\n",
    "<div>"
   ]
  },
  {
   "cell_type": "code",
   "execution_count": null,
   "metadata": {
    "collapsed": true
   },
   "outputs": [],
   "source": [
    "clf()\n",
    "xlim(-1,11)\n",
    "ylim(-1,1)\n",
    "xlabel('x [m]')\n",
    "ylabel('y [m]')\n",
    "\n",
    "plot(0,0,'b.')\n",
    "StartBall(0,0)\n",
    "\n",
    "pause(0.5)\n",
    "plot(2.5,0,'b.')\n",
    "MoveBallTo(2.5,0)\n",
    "\n",
    "pause(0.5)\n",
    "plot(5,0,'b.')\n",
    "MoveBallTo(5,0)\n",
    "\n",
    "??\n",
    "??\n",
    "\n",
    "??\n",
    "??"
   ]
  },
  {
   "cell_type": "markdown",
   "metadata": {},
   "source": [
    "<div style=\"direction:rtl\">\n",
    "כפי שלמדנו, תרשים העקבות מאפשר לנו לראות שמדובר בתנועה במהירות קבועה.\n",
    "נעבור לתנועה עם תאוצה.\n",
    "השלימו את התא הבא לצורך המחשה של כדור הנופל מגובה של 25 מטרים.\n",
    "בכדי לחסוך זמן, נשתמש במשתנים ובקוד עצמו לחישוב המיקום של הכדור.\n",
    "כדאי להשתמש בcopy+paste ולשנות בכל צעד רק את מה שצריך.\n",
    "<div>"
   ]
  },
  {
   "cell_type": "code",
   "execution_count": null,
   "metadata": {
    "collapsed": true
   },
   "outputs": [],
   "source": [
    "clf()\n",
    "xlim(-10,10)\n",
    "ylim(-1,30)\n",
    "xlabel('x [m]')\n",
    "ylabel('y [m]')\n",
    "\n",
    "t=0\n",
    "x0=0\n",
    "y0=25 #m\n",
    "\n",
    "\n",
    "plot(x0,y0,'b.')\n",
    "StartBall(x0,y0)\n",
    "\n",
    "pause(0.5)\n",
    "t=0.5; \n",
    "x=x0\n",
    "y=y0-5*t**2\n",
    "plot(x,y,'b.')\n",
    "MoveBallTo(x,y)\n",
    "\n",
    "pause(0.5)\n",
    "t=1\n",
    "x=x0\n",
    "y=y0-5*t**2\n",
    "plot(x,y,'b.')\n",
    "MoveBallTo(x,y)\n",
    "\n",
    "??\n",
    "??\n",
    "??\n",
    "??\n",
    "??\n",
    "??\n",
    "\n",
    "??\n",
    "??\n",
    "??\n",
    "??\n",
    "??\n",
    "??\n",
    "\n",
    "??\n",
    "??\n",
    "??\n",
    "??\n",
    "??\n",
    "??\n",
    "\n",
    "??\n",
    "??\n",
    "??\n",
    "??\n",
    "??\n",
    "??"
   ]
  },
  {
   "cell_type": "markdown",
   "metadata": {},
   "source": [
    "<div style=\"direction:rtl\">\n",
    "מכיוון שהקפיצות בזמן גדולות יחסית, התנועה על המסך אינה נראית רציפה. נרצה לעשות צעדים רבים יותר ובקפיצות קטנות יותר. הבעיה היא שזה יצרוך עבודה רבה.\n",
    "ננסה להקל על עצמנו.\n",
    "הסתכלו בתא הבא, נסו לנחש מה יקרה והריצו אותו.\n",
    "<div>"
   ]
  },
  {
   "cell_type": "code",
   "execution_count": null,
   "metadata": {
    "collapsed": true
   },
   "outputs": [],
   "source": [
    "clf()\n",
    "xlim(-10,10)\n",
    "ylim(-1,30)\n",
    "xlabel('x [m]')\n",
    "ylabel('y [m]')\n",
    "\n",
    "x0=0\n",
    "y0=25 #m\n",
    "\n",
    "plot(x0,y0,'b.')\n",
    "StartBall(x0,y0)\n",
    "\n",
    "t=0\n",
    "\n",
    "pause(0.5)\n",
    "t=t+0.5\n",
    "x=x0\n",
    "y=y0-5*t**2\n",
    "plot(x,y,'b.')\n",
    "MoveBallTo(x,y)\n",
    "\n",
    "pause(0.5)\n",
    "t=t+0.5\n",
    "x=x0\n",
    "y=y0-5*t**2\n",
    "plot(x,y,'b.')\n",
    "MoveBallTo(x,y)\n",
    "\n",
    "pause(0.5)\n",
    "t=t+0.5\n",
    "x=x0\n",
    "y=y0-5*t**2\n",
    "plot(x,y,'b.')\n",
    "MoveBallTo(x,y)\n",
    "\n",
    "\n",
    "pause(0.5)\n",
    "t=t+0.5\n",
    "x=x0\n",
    "y=y0-5*t**2\n",
    "plot(x,y,'b.')\n",
    "MoveBallTo(x,y)\n",
    "\n",
    "\n",
    "pause(0.5)\n",
    "t=t+0.5\n",
    "x=x0\n",
    "y=y0-5*t**2\n",
    "plot(x,y,'b.')\n",
    "MoveBallTo(x,y)\n",
    "\n",
    "pause(0.5)\n",
    "t=t+0.5\n",
    "x=x0\n",
    "y=y0-5*t**2\n",
    "plot(x,y,'b.')\n",
    "MoveBallTo(x,y)"
   ]
  },
  {
   "cell_type": "markdown",
   "metadata": {},
   "source": [
    "<div style=\"direction:rtl\">\n",
    "קיבלנו את אותה תוצאה בדיוק.\n",
    "לפני שנבין איך זה עובד, נשאל למה בכל?\n",
    "מה הרווחנו?\n",
    "שימו לב שכל בלוק של שישיית פקודות הגורם לצעד אחד זהה לחלוטין לקודמיו.\n",
    "לכן נוכל בקלות להוסיף הרבה צעדים עם copy+paste.\n",
    "בתא הבא העתיקו את הבלוק של ששת השורות לכל צעד בכדי להמחיש את התנועה בצעדים של עשירית שניה.\n",
    "ע״י הרצה ודאו שהעתקתם מספיק פעמים כך שהכדור יגיע לרצפה\n",
    "(y=0).\n",
    "<div>"
   ]
  },
  {
   "cell_type": "code",
   "execution_count": null,
   "metadata": {
    "collapsed": true
   },
   "outputs": [],
   "source": [
    "clf()\n",
    "xlim(-10,10)\n",
    "ylim(-1,30)\n",
    "xlabel('x [m]')\n",
    "ylabel('y [m]')\n",
    "\n",
    "x0=0\n",
    "y0=25\n",
    "\n",
    "plot(x0,y0,'b.')\n",
    "StartBall(x0,y0)\n",
    "\n",
    "t=0\n",
    "\n",
    "pause(0.1)\n",
    "t=t+0.1\n",
    "x=x0\n",
    "y=y0-5*t**2\n",
    "plot(x,y,'b.')\n",
    "MoveBallTo(x,y)\n",
    "\n",
    "???"
   ]
  },
  {
   "cell_type": "markdown",
   "metadata": {},
   "source": [
    "<div style=\"direction:rtl\">\n",
    "כעת נבין איך זה עובד.\n",
    "הפקודה החדשה והמבלבלת כאן היא\n",
    "$$\\rm t=t+0.1$$\n",
    "לכאורה רשומה כאן משוואה בלתי אפשרית.\n",
    "האגף הימני תמיד יהיה גדול מהאגף השמאלי. \n",
    "כמובן שזוהי לא משוואה מתמטית. לסימן השוויון\n",
    "׳=׳\n",
    "בתכנות יש משמעות שונה. הוא אומר למחשב להציב למשתנה שבאגף שמאל את תוצאת החישוב שבאגף ימין. \n",
    "במהלך החישוב המחשב משתמש בערך הקודם של\n",
    "t\n",
    "ורק בסוף מזין את התוצאה ומעדכן את הערך של t.\n",
    "גם אם לא הבנתם, המשיכו והנסיון יעזור לכם להבין. נחשו מה יקרה בתאים הבאים והריצו אותם.\n",
    "<div>"
   ]
  },
  {
   "cell_type": "code",
   "execution_count": null,
   "metadata": {
    "collapsed": true
   },
   "outputs": [],
   "source": [
    "t=0\n",
    "print(t)\n",
    "print(t+3)\n",
    "print(t)\n",
    "t=t+3\n",
    "print(t)"
   ]
  },
  {
   "cell_type": "code",
   "execution_count": null,
   "metadata": {
    "collapsed": true
   },
   "outputs": [],
   "source": [
    "t=0\n",
    "print(t)\n",
    "\n",
    "t=t+2\n",
    "print(t)\n",
    "\n",
    "t=t+2\n",
    "print(t)\n",
    "\n",
    "t=t+2\n",
    "print(t)\n",
    "\n",
    "t=t+2\n",
    "print(t)\n",
    "\n",
    "t=t+2\n",
    "print(t)"
   ]
  },
  {
   "cell_type": "markdown",
   "metadata": {},
   "source": [
    "<div style=\"direction:rtl\">\n",
    "מבינים?\n",
    "גם אם לא, כדאי להמשיך. נדון בכך בכיתה ביחד אחרי גמר הפעילות.\n",
    "נחזור לנפילה החופשית.\n",
    "במשימה הבאה נייצר אנימציה ותרשים העקבות של נפילה חופשית.\n",
    "<div>"
   ]
  },
  {
   "cell_type": "markdown",
   "metadata": {},
   "source": [
    "<div style=\"direction:rtl\">\n",
    "<H4>\n",
    "משימה\n",
    "</H4>\n",
    "בתא הבא צרו אנימציה של כדור המאיץ בתאוצה קבועה של \n",
    "4\n",
    "מטרים לשניה בריבוע בכיוון החיובי של ציר ה\n",
    "x\n",
    "במשך שני שניות.\n",
    "הכדור מתחיל ממנוחה.\n",
    "<div>"
   ]
  },
  {
   "cell_type": "code",
   "execution_count": null,
   "metadata": {
    "collapsed": true
   },
   "outputs": [],
   "source": [
    "\n"
   ]
  },
  {
   "cell_type": "markdown",
   "metadata": {},
   "source": [
    "<div style=\"direction:rtl\">\n",
    "<H4>\n",
    "אתגר\n",
    "</H4>\n",
    "נסו לחזור על התרגיל הקודם ללא שימוש בנוסחת המיקום בתאוצה קבועה.\n",
    "במקום זאת השתמשו בנוסחה למהירות כתלות בזמן בתאוצה קבועה והניחו שבכל צעד זמן המהירות כמעט קבועה.\n",
    "אם הצלחתם צרו גרפים שבהם רואים את תוצאות ההרצות השונות כתלות בזמן.\n",
    "<div>"
   ]
  }
 ],
 "metadata": {
  "anaconda-cloud": {},
  "kernelspec": {
   "display_name": "Python 3",
   "language": "python",
   "name": "python3"
  },
  "language_info": {
   "codemirror_mode": {
    "name": "ipython",
    "version": 3
   },
   "file_extension": ".py",
   "mimetype": "text/x-python",
   "name": "python",
   "nbconvert_exporter": "python",
   "pygments_lexer": "ipython3",
   "version": "3.6.1"
  }
 },
 "nbformat": 4,
 "nbformat_minor": 1
}

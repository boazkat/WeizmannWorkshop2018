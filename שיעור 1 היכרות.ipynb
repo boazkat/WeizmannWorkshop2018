{
 "cells": [
  {
   "cell_type": "markdown",
   "metadata": {},
   "source": [
    "<div style=\"direction:rtl\">\n",
    "<H2>\n",
    "יצירת תרשים עקבות\n",
    "</H2>\n",
    "<div>"
   ]
  },
  {
   "cell_type": "markdown",
   "metadata": {},
   "source": [
    "<div style=\"direction:rtl\">\n",
    "במחברת זאת נדגים תנועה של גוף.\n",
    "דמיינו שזבוב מטייל על מסך המחשב שלכם ומדי פעם משאיר סימן.\n",
    "ראשית הריצו את התא האפור הבא בכדי שהתוכנה תהיה מוכנה.\n",
    "בכדי להריץ תאים אפורים (תאי קוד) יש ללחוץ עליהם כדי שהסמן יהיה בתוכם ואז להקיש\n",
    "ctrl+enter \n",
    "או\n",
    "shift+enter\n",
    "בלוח המקשים\n",
    "<div>"
   ]
  },
  {
   "cell_type": "code",
   "execution_count": null,
   "metadata": {},
   "outputs": [],
   "source": [
    "%pylab inline"
   ]
  },
  {
   "cell_type": "markdown",
   "metadata": {},
   "source": [
    "<div style=\"direction:rtl\">\n",
    "בתאים האפורים נרשום פקודות שיבצעו חישובים ויאפשרו לנו לסרטט.\n",
    "נחשו מה יקרה כשתריצו כל אחד מהתאים הבאים ואז הריצו אותו\n",
    "<div>"
   ]
  },
  {
   "cell_type": "code",
   "execution_count": null,
   "metadata": {},
   "outputs": [],
   "source": [
    "3*5"
   ]
  },
  {
   "cell_type": "code",
   "execution_count": null,
   "metadata": {},
   "outputs": [],
   "source": [
    "3+2*(1+4)"
   ]
  },
  {
   "cell_type": "code",
   "execution_count": null,
   "metadata": {},
   "outputs": [],
   "source": [
    "3**2"
   ]
  },
  {
   "cell_type": "markdown",
   "metadata": {},
   "source": [
    "<div style=\"direction:rtl\">\n",
    "כפי שאתם רואים, השימוש הפשוט ביותר בתאים האפורים הוא לצורך חישובים. \n",
    "כעת נחשו מה יקרה כשתריצו את התאים הבאים ואז הריצו אותם\n",
    "<div>"
   ]
  },
  {
   "cell_type": "code",
   "execution_count": null,
   "metadata": {},
   "outputs": [],
   "source": [
    "plot(4,1,'.')"
   ]
  },
  {
   "cell_type": "code",
   "execution_count": null,
   "metadata": {},
   "outputs": [],
   "source": [
    "plot(4,1,'.')\n",
    "plot(8,0.5,'.')\n",
    "plot(6,1.5,'+')"
   ]
  },
  {
   "cell_type": "markdown",
   "metadata": {},
   "source": [
    "<div style=\"direction:rtl\">\n",
    "כפי שאולי הבנתם, הפקודה plot מאפשרת לנו להוסיף סימנים לגרף שפתחנו.\n",
    "אנו צריכים להזין שני מספרים - הראשון מסמל את ערך ה-x והשני את ערך הy.\n",
    "בנוסף, צריך לציין סימן בגרשיים. בינתיים הוספנו נקודות '.' ופלוסים '+'.\n",
    "נסו בעצמכם: בתא הבא ציירו גרף עם נקודה במיקום \n",
    "$(2,1.5)$\n",
    "וסימן '+' במיקום \n",
    "$(5,0.7)$.\n",
    "<div>"
   ]
  },
  {
   "cell_type": "code",
   "execution_count": null,
   "metadata": {},
   "outputs": [],
   "source": []
  },
  {
   "cell_type": "markdown",
   "metadata": {},
   "source": [
    "<div style=\"direction:rtl\">\n",
    "שימו לב שבכל פעם שמוסיפים סימן הצבע שלו שונה.\n",
    "נוכל לשלוט בצבע של הסימן ע״י הוספת אות מתאימה.\n",
    "לנקודה כחולה נוסיף  b (קיצור ל blue):\n",
    "<div>"
   ]
  },
  {
   "cell_type": "code",
   "execution_count": null,
   "metadata": {},
   "outputs": [],
   "source": [
    "plot(6,1.8,'b.')"
   ]
  },
  {
   "cell_type": "markdown",
   "metadata": {},
   "source": [
    "<div style=\"direction:rtl\">\n",
    "קיצורים נוספים: <br>\n",
    "b for blue  <br>\n",
    "g for green <br>\n",
    "r for red <br>\n",
    "y for yellow <br>\n",
    "k for black <br>\n",
    "בעזרת התא הבא הוסיפו '+' אדום במיקום\n",
    "$(9,1)$.\n",
    "<div>"
   ]
  },
  {
   "cell_type": "code",
   "execution_count": null,
   "metadata": {},
   "outputs": [],
   "source": []
  },
  {
   "cell_type": "markdown",
   "metadata": {},
   "source": [
    "<div style=\"direction:rtl\">\n",
    "כעת התבוננו בתאים הבאים, נחשו מה יקרה והריצו אותם.\n",
    "<div>"
   ]
  },
  {
   "cell_type": "code",
   "execution_count": null,
   "metadata": {},
   "outputs": [],
   "source": [
    "plot(5,5,'r+')\n",
    "xlim(0,10)"
   ]
  },
  {
   "cell_type": "code",
   "execution_count": null,
   "metadata": {},
   "outputs": [],
   "source": [
    "plot(5,5,'r+')\n",
    "xlim(1,6)\n",
    "ylim(0,10)"
   ]
  },
  {
   "cell_type": "markdown",
   "metadata": {},
   "source": [
    "<div style=\"direction:rtl\">\n",
    "כפי שאולי הבנתם, הפקודה \n",
    "xlim\n",
    "קובעת את תחום הערכים בציר \n",
    "x\n",
    "שבחלון,\n",
    "והפקודה \n",
    "ylim\n",
    "קובעת את תחום הערכים בציר \n",
    "y\n",
    "שבחלון.\n",
    "<div>"
   ]
  },
  {
   "cell_type": "markdown",
   "metadata": {},
   "source": [
    "<div style=\"direction:rtl\">\n",
    "נחזור לזבוב שלנו.\n",
    "ברגע מסוים הזבוב היה במקום \n",
    "$(3,1)$\n",
    "והשאיר עקבה בצורת נקודה כחולה. \n",
    "נסמן את הנקודה במסך:\n",
    "<div>"
   ]
  },
  {
   "cell_type": "code",
   "execution_count": null,
   "metadata": {},
   "outputs": [],
   "source": [
    "plot(3,1,'b.')"
   ]
  },
  {
   "cell_type": "markdown",
   "metadata": {},
   "source": [
    "<div style=\"direction:rtl\">\n",
    "הזבוב התחיל ללכת לאט ולאחר שניה הוא זז למקום\n",
    "$(5,1)$.\n",
    "בתא הבא הוסיפו נקודה כחולה חדשה לציין את מיקומו לאחר שניה.\n",
    "<div>"
   ]
  },
  {
   "cell_type": "code",
   "execution_count": null,
   "metadata": {},
   "outputs": [],
   "source": []
  },
  {
   "cell_type": "markdown",
   "metadata": {},
   "source": [
    "<div style=\"direction:rtl\">\n",
    "לאחר שניה נוספת הוא זז למקום\n",
    "$(6,1)$.\n",
    "בעזרת התא הבא הוסיפו נקודה כחולה חדשה לציין את מיקומו החדש.\n",
    "<div>"
   ]
  },
  {
   "cell_type": "code",
   "execution_count": null,
   "metadata": {},
   "outputs": [],
   "source": []
  },
  {
   "cell_type": "markdown",
   "metadata": {},
   "source": [
    "<div style=\"direction:rtl\">\n",
    "הזבוב הסתובב שמאלה ולאחר שניה נוספת (כבר עברו שלוש שניות מאז שהתחיל ללכת) מיקומו \n",
    "$(6,1.5)$.\n",
    "בעזרת התא הבא הוסיפו נקודה כחולה חדשה לציין את מיקומו החדש.\n",
    "<div>"
   ]
  },
  {
   "cell_type": "code",
   "execution_count": null,
   "metadata": {},
   "outputs": [],
   "source": []
  },
  {
   "cell_type": "markdown",
   "metadata": {},
   "source": [
    "<div style=\"direction:rtl\">\n",
    "התרשים שקיבלנו הוא תרשים עקבות של הזבוב. \n",
    "אם אנו יודעים את סדר הנקודות ואת הזמן שעבר ביניהם, יש לנו מידע רב לגבי תנועת הזבוב.\n",
    "כדי להמחיש איך הזבוב זז, נרצה שהנקודות יופיעו בזמנים המתאימים אחת אחרי השניה.\n",
    "המחשב יכול לעזור לנו.\n",
    "ראשית בואו נקבץ את כל הפקודות שהשתמשנו בהם לתא אחד.\n",
    "סגרו את החלון והריצו את התא הבא:\n",
    "<div>"
   ]
  },
  {
   "cell_type": "code",
   "execution_count": null,
   "metadata": {},
   "outputs": [],
   "source": [
    "xlim(0,10)\n",
    "ylim(0,2)\n",
    "plot(3,1,'b.')\n",
    "plot(5,1,'b.')\n",
    "plot(6,1,'b.')\n",
    "plot(6,1.5,'b.')"
   ]
  },
  {
   "cell_type": "markdown",
   "metadata": {
    "collapsed": true
   },
   "source": [
    "<div style=\"direction:rtl\">\n",
    "המחשב ביצע את כל הפעולות ואנו רואים את התרשים הסופי.\n",
    "בכדי שנקודות תתוספנה אחת אחת, בהפרשים של שניה בהתאם לתנועת הזבוב, עלינו להורות למחשב לחכות בין כל נקודה לנקודה.\n",
    "סגרו את החלון. נסו לנחש מה יקרה כשתריצו את התא הבא ואז הריצו אותו.\n",
    "<div>"
   ]
  },
  {
   "cell_type": "code",
   "execution_count": null,
   "metadata": {},
   "outputs": [],
   "source": [
    "xlim(0,10)\n",
    "ylim(0,2)\n",
    "plot(3,1,'b.')\n",
    "pause(1)\n",
    "plot(5,1,'b.')\n",
    "pause(1)\n",
    "plot(6,1,'b.')\n",
    "pause(1)\n",
    "plot(6,1.5,'b.')"
   ]
  },
  {
   "cell_type": "markdown",
   "metadata": {},
   "source": [
    "<div style=\"direction:rtl\">\n",
    "כפי שאולי ניחשתם, הפקודה pause אומרת למחשב לחכות מעט לפני שימשיך להתקדם.\n",
    "המספר בסוגריים אומר למחשב בכמה שניות לחכות.\n",
    "שימו לב שהזמן אינו מדויק ועלול להיות שונה משניה במחשבים מסוימים.\n",
    "הנקודות הודפסו באותם זמנים שבהם הזבוב עבר בהם.\n",
    "סגרו את החלון והריצו את התא שוב.\n",
    "בזמן שהנקודות מודפסות, נסו לדמיין את הזבוב המטייל המשאיר את העקבות.\n",
    "<br>\n",
    "זה קצת מעצבן שעלינו לסגור את החלון בכל פעם.\n",
    "אפשר לנקות את החלון בלי לסגור אותו בעזרת הפקודה שבתא הבא. הריצו אותה במקום לסגור את החלון.\n",
    "ואז תוכלו להריץ שוב את התא למעלה עם התרשים בלי לסגור את החלון.\n",
    "<div>"
   ]
  },
  {
   "cell_type": "code",
   "execution_count": null,
   "metadata": {},
   "outputs": [],
   "source": [
    "clf()"
   ]
  },
  {
   "cell_type": "markdown",
   "metadata": {},
   "source": [
    "<div style=\"direction:rtl\">\n",
    "ניתן לשלב את הכל כך שיהיה לנו נוח.\n",
    "הריצו את התא הבא מספר פעמים. בכל פעם אל תסגרו את החלון.\n",
    "<div>"
   ]
  },
  {
   "cell_type": "code",
   "execution_count": null,
   "metadata": {},
   "outputs": [],
   "source": [
    "clf()\n",
    "xlim(0,10)\n",
    "ylim(0,2)\n",
    "plot(3,1,'b.')\n",
    "pause(1)\n",
    "plot(5,1,'b.')\n",
    "pause(1)\n",
    "plot(6,1,'b.')\n",
    "pause(1)\n",
    "plot(6,1.5,'b.')"
   ]
  },
  {
   "cell_type": "markdown",
   "metadata": {},
   "source": [
    "<div style=\"direction:rtl\">\n",
    "זהו. יש לכם את הכלים ליצור תרשים עקבות שממחיש כיצד זבוב זז על המסך.\n",
    "בצעו את המשימות הבאות ונסו להתמודד עם האתגרים הבאים.\n",
    "<div>"
   ]
  },
  {
   "cell_type": "markdown",
   "metadata": {},
   "source": [
    "<div style=\"direction:rtl\">\n",
    "<H5>\n",
    "משימה 1\n",
    "</H5> \n",
    "צרו תרשים עקבות של התנועה הבאה:\n",
    "הזבוב מתחיל בנקודה \n",
    "$(3,1)$,\n",
    "אחרי שניה זז ל\n",
    "$(4,1)$,\n",
    "אחרי שניה נוספת זז ל\n",
    "$(4,0.5)$,\n",
    "אחרי שניה נוספת זז ל\n",
    "$(5,0.5)$,\n",
    "אחרי שניה נוספת זז ל\n",
    "$(5,1)$,\n",
    "אחרי שניה נוספת זז ל\n",
    "$(6,1)$\n",
    "<div>"
   ]
  },
  {
   "cell_type": "code",
   "execution_count": null,
   "metadata": {},
   "outputs": [],
   "source": []
  },
  {
   "cell_type": "markdown",
   "metadata": {},
   "source": [
    "<div style=\"direction:rtl\">\n",
    "<H4>\n",
    "משימה 2\n",
    "</H4>\n",
    "כמו משימה 1, אך בין כל שתי \n",
    "נקודות עוברות שתי שניות במקום שניה בודדת.\n",
    "האם התרשים הסופי השתנה?\n",
    "\n",
    "<div>"
   ]
  },
  {
   "cell_type": "code",
   "execution_count": null,
   "metadata": {},
   "outputs": [],
   "source": []
  },
  {
   "cell_type": "markdown",
   "metadata": {},
   "source": [
    "<div style=\"direction:rtl\">\n",
    "<H4>\n",
    "משימה 3\n",
    "</H4>\n",
    "הזבוב מקיף מלבן. \n",
    "בכל שניה הוא זז לפינה הבאה. \n",
    "אתם יכולים לבחור את המיקום והממדים של המלבן כרצונכם.\n",
    "<div>"
   ]
  },
  {
   "cell_type": "code",
   "execution_count": null,
   "metadata": {},
   "outputs": [],
   "source": []
  },
  {
   "cell_type": "markdown",
   "metadata": {},
   "source": [
    "<div style=\"direction:rtl\">\n",
    "<H4>\n",
    "אתגר \n",
    "</H4>\n",
    "הזבוב נע על קו ישר ובכל שניה מתקדם 5 ס״מ ימינה על המסך במשך 4 שניות.\n",
    "לצורך אתגר זה כדאי להשתמש בסרגל.\n",
    "<div>"
   ]
  },
  {
   "cell_type": "code",
   "execution_count": null,
   "metadata": {},
   "outputs": [],
   "source": []
  },
  {
   "cell_type": "markdown",
   "metadata": {},
   "source": [
    "<div style=\"direction:rtl\">\n",
    "<H4>\n",
    "אתגר \n",
    "</H4>\n",
    "הזבוב נע על קו ישר באלכסון - ימינה ולמעלה, ובכל שניה מתקדם 5 ס״מ על המסך במשך 4 שניות.\n",
    "לצורך אתגר זה כדאי להשתמש בסרגל.\n",
    "<div>"
   ]
  },
  {
   "cell_type": "code",
   "execution_count": null,
   "metadata": {},
   "outputs": [],
   "source": []
  },
  {
   "cell_type": "markdown",
   "metadata": {},
   "source": [
    "<div style=\"direction:rtl\">\n",
    "<H4>\n",
    "אתגר \n",
    "</H4>\n",
    "שנו את הקוד באחד התרגילים שעבורם עשיתם תרשים עקבות כך שבמקום שתתווספנה נקודות חדשות, \n",
    "תהיה נקודה אחת שתזוז בין המיקומים בזמנים המתאימים.\n",
    "<div>"
   ]
  },
  {
   "cell_type": "code",
   "execution_count": null,
   "metadata": {},
   "outputs": [],
   "source": []
  },
  {
   "cell_type": "markdown",
   "metadata": {},
   "source": [
    "<div style=\"direction:rtl\">\n",
    "<H4>\n",
    "אתגר קשה \n",
    "</H4>\n",
    "הזבוב נע במעגל במשך חמש שניות ומשאיר עקבה כל שניה. בחרו את הממדים והמיקום כרצונכם, קצב התנועה לא צריך להיות קבוע.\n",
    "<div>"
   ]
  },
  {
   "cell_type": "code",
   "execution_count": null,
   "metadata": {},
   "outputs": [],
   "source": []
  }
 ],
 "metadata": {
  "anaconda-cloud": {},
  "kernelspec": {
   "display_name": "Python 3",
   "language": "python",
   "name": "python3"
  },
  "language_info": {
   "codemirror_mode": {
    "name": "ipython",
    "version": 3
   },
   "file_extension": ".py",
   "mimetype": "text/x-python",
   "name": "python",
   "nbconvert_exporter": "python",
   "pygments_lexer": "ipython3",
   "version": "3.6.5"
  }
 },
 "nbformat": 4,
 "nbformat_minor": 1
}
